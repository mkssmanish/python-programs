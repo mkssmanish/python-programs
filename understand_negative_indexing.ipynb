{
  "nbformat": 4,
  "nbformat_minor": 0,
  "metadata": {
    "colab": {
      "name": "understand_negative_indexing.ipynb",
      "provenance": [],
      "authorship_tag": "ABX9TyOGyfz9PRg5M40zF3NIpZ92",
      "include_colab_link": true
    },
    "kernelspec": {
      "name": "python3",
      "display_name": "Python 3"
    }
  },
  "cells": [
    {
      "cell_type": "markdown",
      "metadata": {
        "id": "view-in-github",
        "colab_type": "text"
      },
      "source": [
        "<a href=\"https://colab.research.google.com/github/mkssmanish/python-programs/blob/master/understand_negative_indexing.ipynb\" target=\"_parent\"><img src=\"https://colab.research.google.com/assets/colab-badge.svg\" alt=\"Open In Colab\"/></a>"
      ]
    },
    {
      "cell_type": "code",
      "metadata": {
        "id": "tG-BI3EES0Un",
        "colab_type": "code",
        "colab": {}
      },
      "source": [
        "\n",
        "# Python program for basic slicing.\n",
        "# Understand negative indexing \n",
        "# How start stop step work in oython \n",
        "\n",
        "\n",
        "import numpy as np\n",
        " \n",
        "# Arrange elements from 0 to 19\n",
        "a = np.arange(20)\n",
        "print(\"\\n Array is:\\n \",a)\n",
        "\n",
        "negative_index = np.arange(-20,0,1)\n",
        "print(\"\\n negative index  is:\\n \",negative_index)\n",
        " \n",
        "# a[start:stop:step]\n",
        "\n",
        "print(\"\\n -8 = 12th index --> a[-8:17:1]  = \",a[-8:17:1]) \n",
        "\n",
        "\n",
        "\n",
        "print(\"\\n\\n\\n  a[8:-17:-1] will give index 8,7,6,5,4  bcz -17 mean 3rd index --> 8  loop(-1) till 3rd index   \",a[8:-17:-1]) \n",
        "\n",
        "\n",
        "\n",
        "print(\"\\n\\n\\n a[8:12:-1] will give empty array bcz 8th index increment with (-1) cant lead u to 12th index  = \",a[8:12:-1]) \n",
        "\n",
        "\n",
        "print(\"\\n\\n\\n -8 mean 12th index , -12 mean +8th index  a[-8:-12:-1] will give array with index -8 -9 -10 -11   = \",a[-8:-12:-1]) \n",
        "\n",
        " \n",
        "# The : operator means all elements till the end.\n",
        "print(\"\\n\\n\\n a[10:]  = \",a[10:])"
      ],
      "execution_count": 0,
      "outputs": []
    }
  ]
}