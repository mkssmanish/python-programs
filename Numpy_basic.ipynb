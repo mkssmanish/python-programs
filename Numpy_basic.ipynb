{
  "nbformat": 4,
  "nbformat_minor": 0,
  "metadata": {
    "colab": {
      "name": "Numpy_basic.ipynb",
      "provenance": [],
      "authorship_tag": "ABX9TyNoM6Q1LK2Kxel/wdVo1+GX",
      "include_colab_link": true
    },
    "kernelspec": {
      "name": "python3",
      "display_name": "Python 3"
    }
  },
  "cells": [
    {
      "cell_type": "markdown",
      "metadata": {
        "id": "view-in-github",
        "colab_type": "text"
      },
      "source": [
        "<a href=\"https://colab.research.google.com/github/mkssmanish/python-programs/blob/master/Numpy_basic.ipynb\" target=\"_parent\"><img src=\"https://colab.research.google.com/assets/colab-badge.svg\" alt=\"Open In Colab\"/></a>"
      ]
    },
    {
      "cell_type": "code",
      "metadata": {
        "id": "fHzJNydqcwcy",
        "colab_type": "code",
        "colab": {}
      },
      "source": [
        "###  what is Numpy ???\n",
        "\n",
        "### Numpy = >  Num  +   Py \n",
        "\n",
        "### Num stands for numerical value , Py stands for python \n",
        "\n",
        "### Which do numerical & sceientific opertaion \n",
        "\n",
        "###Array in Numpy is a table of elements (usually numbers), all of the same type\n",
        "\n",
        "### Interview Question\n",
        "\n",
        "### What is difference b/w numpy array & list\n",
        "\n",
        "#### List can take element of diff type but not numpy array  #####"
      ],
      "execution_count": 0,
      "outputs": []
    },
    {
      "cell_type": "code",
      "metadata": {
        "id": "RjWkr-y9k_xq",
        "colab_type": "code",
        "colab": {}
      },
      "source": [
        ""
      ],
      "execution_count": 0,
      "outputs": []
    },
    {
      "cell_type": "code",
      "metadata": {
        "id": "1WIuu6sulAHU",
        "colab_type": "code",
        "colab": {}
      },
      "source": [
        "import numpy as np "
      ],
      "execution_count": 0,
      "outputs": []
    },
    {
      "cell_type": "code",
      "metadata": {
        "id": "BRmv-PX3lAdV",
        "colab_type": "code",
        "colab": {}
      },
      "source": [
        "# creating a rank 1 array \n",
        "\n",
        "arr = np.array([1,2,3])\n",
        "arr"
      ],
      "execution_count": 0,
      "outputs": []
    },
    {
      "cell_type": "code",
      "metadata": {
        "id": "PTr73N6olAg7",
        "colab_type": "code",
        "colab": {}
      },
      "source": [
        "# creating a rank 2 array \n",
        "\n",
        "arr = np.array([      [1,2,3]  ,   [4,5,6]    ])\n",
        "arr"
      ],
      "execution_count": 0,
      "outputs": []
    },
    {
      "cell_type": "code",
      "metadata": {
        "id": "1ESDHhPclAkZ",
        "colab_type": "code",
        "colab": {}
      },
      "source": [
        "# creating an array from a tuple \n",
        "\n",
        "arr = np.array((10,20,30))\n",
        "\n",
        "arr"
      ],
      "execution_count": 0,
      "outputs": []
    },
    {
      "cell_type": "code",
      "metadata": {
        "id": "hIdRN-C3lAoK",
        "colab_type": "code",
        "colab": {}
      },
      "source": [
        ""
      ],
      "execution_count": 0,
      "outputs": []
    },
    {
      "cell_type": "code",
      "metadata": {
        "id": "l71IWVEtlArA",
        "colab_type": "code",
        "colab": {}
      },
      "source": [
        "########       Accessing the Array Index       #############\n",
        "import numpy as np\n",
        "# Initial Array  4*4\n",
        "\n",
        "arr = np.array( [ [-1,2,0,4],   [4,-0.5,6,0]  ,  [2.6,0,7,8],   [3,-7,4,2.0]   ]  )\n",
        "\n",
        "print(\"Initial Array   : \\n\\n\", arr)\n",
        "\n",
        "sliced_arr  = arr[:2 , ::2]  \n",
        "\n",
        "### Array with first 2 rows and alternate columns 0,2,4,6,8... but here 0 2\n",
        "\n",
        "print(\"\\n\\nSliced array  :\\n \",sliced_arr)"
      ],
      "execution_count": 0,
      "outputs": []
    },
    {
      "cell_type": "code",
      "metadata": {
        "id": "Unz6MbWXGlvF",
        "colab_type": "code",
        "colab": {}
      },
      "source": [
        ""
      ],
      "execution_count": 0,
      "outputs": []
    },
    {
      "cell_type": "code",
      "metadata": {
        "id": "r8sH5jqrGmPq",
        "colab_type": "code",
        "colab": {}
      },
      "source": [
        "# printing element @ specific indices \n",
        "\n",
        "index_arr = arr [[1,1,0,3],[3,2,1,0]]\n",
        "  #it will print elements of (1,3) , (1,2),(0,1), (3,0)\n",
        "index_arr "
      ],
      "execution_count": 0,
      "outputs": []
    },
    {
      "cell_type": "code",
      "metadata": {
        "id": "NYbFBb1vGmS0",
        "colab_type": "code",
        "colab": {}
      },
      "source": [
        ""
      ],
      "execution_count": 0,
      "outputs": []
    },
    {
      "cell_type": "code",
      "metadata": {
        "id": "1JGPbBPEGmVR",
        "colab_type": "code",
        "colab": {}
      },
      "source": [
        "# Basic Array operation \n",
        "\n",
        "a = np.array([[1,2],[3,4]])\n",
        "\n",
        "b = np.array([[4,3],[2,1]])\n",
        "\n",
        "### Adding 1 to every elements \n",
        "\n",
        "a = a+1\n",
        "print(\"\\n Array b , after subtracting 2 from each elements  \\n:\",a)\n",
        "\n",
        "### Subtracting 2 from every elements of B\n",
        "b = b-2\n",
        "print(\"\\n Array b , after subtracting 2 from each elements  \\n:\",b)\n",
        "\n",
        "### Sum of all array elements  of \"a\"\n",
        "Sum = sum(a)\n",
        "print(\"\\n\\nSum of elements of Array a :   \", Sum)\n",
        "\n",
        "\n",
        "### Adding two arrays\n",
        "print(\"Addition of Arrays ... is an array .. a+b  :\\n\\n\",  a+b)"
      ],
      "execution_count": 0,
      "outputs": []
    },
    {
      "cell_type": "code",
      "metadata": {
        "id": "xTGL_mIzGmX9",
        "colab_type": "code",
        "colab": {}
      },
      "source": [
        ""
      ],
      "execution_count": 0,
      "outputs": []
    },
    {
      "cell_type": "code",
      "metadata": {
        "id": "uVwn_aKXGmap",
        "colab_type": "code",
        "colab": {}
      },
      "source": [
        "### Data Types object ---> provide info regarding layout of array :: dtype \n",
        "\n",
        "x = np.array([1,2])\n",
        "print(x.dtype)\n",
        "\n",
        "x = np.array([1.333, 2.342])\n",
        "print(x.dtype)\n",
        "\n",
        "# Forced data type  , by default 64 but I converted here in 32 \n",
        "\n",
        "x = np.array([1,2], dtype = np.int32 )\n",
        "print(x.dtype)"
      ],
      "execution_count": 0,
      "outputs": []
    },
    {
      "cell_type": "code",
      "metadata": {
        "id": "URBSxi72Gmdv",
        "colab_type": "code",
        "colab": {}
      },
      "source": [
        ""
      ],
      "execution_count": 0,
      "outputs": []
    },
    {
      "cell_type": "code",
      "metadata": {
        "id": "aBblYlw4Gmge",
        "colab_type": "code",
        "colab": {}
      },
      "source": [
        "### Math operational in Data Type Array\n",
        "### Operator overload & as function\n",
        "\n",
        "arr1 = np.array([[4,7],[2,6]], dtype = np.float64)\n",
        "\n",
        "arr2 = np.array([[11,22],[33,44]], dtype = np.float64)\n",
        "\n",
        "arr3 = arr1 + arr2 \n",
        "\n",
        "print(\"Adding two array by simple method  '+'   : \\n\"  , arr3)\n",
        "\n",
        "# Now by function add\n",
        "\n",
        "arr3 = np.array(arr1 + arr2)\n",
        "print(\"\\nAdding two array by numpy method  'np.add()'   : \\n\"  , arr3)"
      ],
      "execution_count": 0,
      "outputs": []
    },
    {
      "cell_type": "code",
      "metadata": {
        "id": "g_TnZVhIGmj-",
        "colab_type": "code",
        "colab": {}
      },
      "source": [
        ""
      ],
      "execution_count": 0,
      "outputs": []
    },
    {
      "cell_type": "code",
      "metadata": {
        "id": "eIVQhOL1Gmnv",
        "colab_type": "code",
        "colab": {
          "base_uri": "https://localhost:8080/",
          "height": 51
        },
        "outputId": "f34bc4e7-ff7c-49af-e550-9a4014605f6b"
      },
      "source": [
        "### Squre root of aar3\n",
        "print(np.sqrt(arr3))"
      ],
      "execution_count": 34,
      "outputs": [
        {
          "output_type": "stream",
          "text": [
            "[[3.87298335 5.38516481]\n",
            " [5.91607978 7.07106781]]\n"
          ],
          "name": "stdout"
        }
      ]
    },
    {
      "cell_type": "code",
      "metadata": {
        "id": "JkzvBZodGmrD",
        "colab_type": "code",
        "colab": {
          "base_uri": "https://localhost:8080/",
          "height": 51
        },
        "outputId": "0bbc1ddf-1582-4f91-a03a-c6a52d10cf51"
      },
      "source": [
        "### transpose of matrix using  dot T method\n",
        "\n",
        "print(arr3.T)"
      ],
      "execution_count": 33,
      "outputs": [
        {
          "output_type": "stream",
          "text": [
            "[[15. 35.]\n",
            " [29. 50.]]\n"
          ],
          "name": "stdout"
        }
      ]
    },
    {
      "cell_type": "code",
      "metadata": {
        "id": "vQQRe70YGmvo",
        "colab_type": "code",
        "colab": {}
      },
      "source": [
        ""
      ],
      "execution_count": 0,
      "outputs": []
    },
    {
      "cell_type": "code",
      "metadata": {
        "id": "RpCNZ8BElAuU",
        "colab_type": "code",
        "colab": {}
      },
      "source": [
        ""
      ],
      "execution_count": 0,
      "outputs": []
    }
  ]
}