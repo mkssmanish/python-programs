{
  "nbformat": 4,
  "nbformat_minor": 0,
  "metadata": {
    "colab": {
      "name": "lockdown 2  47 to 64.ipynb",
      "provenance": [],
      "collapsed_sections": []
    },
    "kernelspec": {
      "name": "python3",
      "display_name": "Python 3"
    }
  },
  "cells": [
    {
      "cell_type": "code",
      "metadata": {
        "id": "gFuBKNkJfYcy",
        "colab_type": "code",
        "colab": {}
      },
      "source": [
        "### The Fibonacci Sequence is computed based on the following formula:\n",
        "\n",
        "### f(n)=0 if n=0\n",
        "### f(n)=1 if n=1\n",
        "### f(n)=f(n-1)+f(n-2) if n>1\n"
      ],
      "execution_count": 0,
      "outputs": []
    },
    {
      "cell_type": "code",
      "metadata": {
        "colab_type": "code",
        "id": "51QHUMz1tbuw",
        "colab": {}
      },
      "source": [
        "# Example: If the following n is given as input to the program:\n",
        "\n",
        "# 7\n",
        "# Then, the output of the program should be:\n",
        "\n",
        "# 0,1,1,2,3,5,8,13"
      ],
      "execution_count": 0,
      "outputs": []
    },
    {
      "cell_type": "code",
      "metadata": {
        "colab_type": "code",
        "id": "-pQtxniXtZ-K",
        "colab": {}
      },
      "source": [
        "def f(n):\n",
        "    if n == 0 or n == 1: \n",
        "      return n\n",
        "    return f(n-1)+f(n-2)\n",
        "\n",
        "n=int(input())\n",
        "values = [str(f(x)) for x in range(0, n+1)]\n",
        "print (\",\".join(values))"
      ],
      "execution_count": 0,
      "outputs": []
    },
    {
      "cell_type": "code",
      "metadata": {
        "id": "Hs45y3eSjGMI",
        "colab_type": "code",
        "colab": {}
      },
      "source": [
        ""
      ],
      "execution_count": 0,
      "outputs": []
    },
    {
      "cell_type": "code",
      "metadata": {
        "id": "rSjPbb1cjhb-",
        "colab_type": "code",
        "colab": {}
      },
      "source": [
        ""
      ],
      "execution_count": 0,
      "outputs": []
    },
    {
      "cell_type": "code",
      "metadata": {
        "id": "7Y8D5fZ4jGRt",
        "colab_type": "code",
        "colab": {}
      },
      "source": [
        "### Please write a program using generator to print the even numbers\n",
        "### between 0 and n in comma separated form while n is input by console."
      ],
      "execution_count": 0,
      "outputs": []
    },
    {
      "cell_type": "code",
      "metadata": {
        "id": "edpNty1QjrXR",
        "colab_type": "code",
        "colab": {}
      },
      "source": [
        "def generator(n) :\n",
        "  for i in range(n):\n",
        "    if i%2 == 0:\n",
        "      yield i\n",
        "\n",
        "\n",
        "\n",
        "n = int(input(\"Enter value of n , an integer  : \"))\n",
        "for i in generator(n+1):\n",
        "  print(i, end = \", \")"
      ],
      "execution_count": 0,
      "outputs": []
    },
    {
      "cell_type": "code",
      "metadata": {
        "id": "7-AVW1cXqz-s",
        "colab_type": "code",
        "colab": {}
      },
      "source": [
        ""
      ],
      "execution_count": 0,
      "outputs": []
    },
    {
      "cell_type": "code",
      "metadata": {
        "id": "x8doNPpOq067",
        "colab_type": "code",
        "colab": {}
      },
      "source": [
        "### Please write a program\n",
        "### using generator to print the numbers which can be divisible by 5 and 7 \n",
        "### between 0 and n in comma separated form while n is input by console."
      ],
      "execution_count": 0,
      "outputs": []
    },
    {
      "cell_type": "code",
      "metadata": {
        "id": "jl07ICX3q7aS",
        "colab_type": "code",
        "colab": {}
      },
      "source": [
        "def generator(n):\n",
        "  for i in range(n):\n",
        "    if i%35 ==0 :\n",
        "      yield i\n",
        "\n",
        "n = int(input(\"Enter value of n , integer :  \"))\n",
        "\n",
        "result = [str(i) for i in generator(n)]\n",
        "print(\",\".join(result))"
      ],
      "execution_count": 0,
      "outputs": []
    },
    {
      "cell_type": "code",
      "metadata": {
        "id": "NQ-lKXsSvSaz",
        "colab_type": "code",
        "colab": {}
      },
      "source": [
        ""
      ],
      "execution_count": 0,
      "outputs": []
    },
    {
      "cell_type": "code",
      "metadata": {
        "id": "5Z9rNx4BvSoB",
        "colab_type": "code",
        "colab": {}
      },
      "source": [
        "#f(n)=f(n-1)+100 when n>0\n",
        "#and f(0)=0"
      ],
      "execution_count": 0,
      "outputs": []
    },
    {
      "cell_type": "code",
      "metadata": {
        "id": "8MuGZrtbvWQC",
        "colab_type": "code",
        "colab": {}
      },
      "source": [
        "def f(n):\n",
        "  if n == 0:\n",
        "    return 0\n",
        "  return f(n-1) +100\n",
        "\n",
        "n = int(input(\"Enter number :  \"))\n",
        "\n",
        "print(f(n))"
      ],
      "execution_count": 0,
      "outputs": []
    },
    {
      "cell_type": "code",
      "metadata": {
        "id": "MuWMd4Cuvt3O",
        "colab_type": "code",
        "colab": {}
      },
      "source": [
        ""
      ],
      "execution_count": 0,
      "outputs": []
    },
    {
      "cell_type": "code",
      "metadata": {
        "id": "wGFYNIWCvuBx",
        "colab_type": "code",
        "colab": {}
      },
      "source": [
        "#The Fibonacci Sequence is computed based on the following formula:\n",
        "\n",
        "#f(n)=0 if n=0\n",
        "#f(n)=1 if n=1\n",
        "#f(n)=f(n-1)+f(n-2) if n>1\n",
        "\n",
        "\n",
        "\n",
        "#Please write a program to compute the value of f(n) with a given n input by console.\n",
        "\n",
        "#Example: If the following n is given as input to the program:\n",
        "\n",
        "#7\n",
        "#Then, the output of the program should be:\n",
        "\n",
        "#13"
      ],
      "execution_count": 0,
      "outputs": []
    },
    {
      "cell_type": "code",
      "metadata": {
        "id": "bLnljSr1v8K7",
        "colab_type": "code",
        "colab": {}
      },
      "source": [
        "def f(n):\n",
        "  if n == 0 or n == 1:\n",
        "    return n\n",
        "  return f(n-1) + f(n-2)\n",
        "\n",
        "n = int(input(\"Enter number  :  \"))\n",
        "print(f(n))"
      ],
      "execution_count": 0,
      "outputs": []
    },
    {
      "cell_type": "code",
      "metadata": {
        "id": "K6yO_b3iwxHd",
        "colab_type": "code",
        "colab": {}
      },
      "source": [
        ""
      ],
      "execution_count": 0,
      "outputs": []
    },
    {
      "cell_type": "code",
      "metadata": {
        "id": "_53FYOXnwxNu",
        "colab_type": "code",
        "colab": {}
      },
      "source": [
        ""
      ],
      "execution_count": 0,
      "outputs": []
    },
    {
      "cell_type": "code",
      "metadata": {
        "id": "FWJHyerGwxTW",
        "colab_type": "code",
        "colab": {}
      },
      "source": [
        "### Assuming that we have some email addresses in the\n",
        "###  \"username@companyname.com\" format, please write program to\n",
        "###   print the company name of a given email address. Both user names \n",
        "###   and company names are composed of letters only.\n",
        "\n",
        "### Example: If the following email address is given as input to the program:\n",
        "\n",
        "### john@google.com\n",
        "### Then, the output of the program should be:\n",
        "\n",
        "### google"
      ],
      "execution_count": 0,
      "outputs": []
    },
    {
      "cell_type": "code",
      "metadata": {
        "id": "08fpJM25xKgg",
        "colab_type": "code",
        "colab": {}
      },
      "source": [
        "import re \n",
        "\n",
        "email = \"john@google.com elise@python.com\"\n",
        "\n",
        "pattern = \"\\w+@(\\w+).com\"\n",
        "\n",
        "result = re.findall(pattern, email)\n",
        "print(result)"
      ],
      "execution_count": 0,
      "outputs": []
    },
    {
      "cell_type": "code",
      "metadata": {
        "id": "k-GFsiiYyMOc",
        "colab_type": "code",
        "colab": {}
      },
      "source": [
        ""
      ],
      "execution_count": 0,
      "outputs": []
    },
    {
      "cell_type": "code",
      "metadata": {
        "id": "BZblRWu8yMRZ",
        "colab_type": "code",
        "colab": {}
      },
      "source": [
        "### Write a program which accepts a sequence of words separated\n",
        "### by whitespace as input to print the words composed of digits only.\n",
        "\n",
        "### Example: If the following words is given as input to the program:\n",
        "\n",
        "### 2 cats and 3 dogs.\n",
        "### Then, the output of the program should be:\n",
        "\n",
        "### ['2', '3']"
      ],
      "execution_count": 0,
      "outputs": []
    },
    {
      "cell_type": "code",
      "metadata": {
        "id": "iONB85uyyMV1",
        "colab_type": "code",
        "colab": {}
      },
      "source": [
        "import re\n",
        "n = input(\"sequence of words separated by white space :  \")\n",
        "pattern = \"\\d+\"    \n",
        "\n",
        "result = re.findall(pattern , n)\n",
        "print(result)"
      ],
      "execution_count": 0,
      "outputs": []
    },
    {
      "cell_type": "code",
      "metadata": {
        "id": "x33iYi6zzt4a",
        "colab_type": "code",
        "colab": {}
      },
      "source": [
        ""
      ],
      "execution_count": 0,
      "outputs": []
    },
    {
      "cell_type": "code",
      "metadata": {
        "id": "uFFkdLpRzuMD",
        "colab_type": "code",
        "colab": {}
      },
      "source": [
        "### Print a unicode string \"hello world\"."
      ],
      "execution_count": 0,
      "outputs": []
    },
    {
      "cell_type": "code",
      "metadata": {
        "id": "uZzQC8VKzx5k",
        "colab_type": "code",
        "colab": {}
      },
      "source": [
        "a = u\"hello world\"\n",
        "print(a)"
      ],
      "execution_count": 0,
      "outputs": []
    },
    {
      "cell_type": "code",
      "metadata": {
        "id": "FgXD1-Xg0EyD",
        "colab_type": "code",
        "colab": {}
      },
      "source": [
        ""
      ],
      "execution_count": 0,
      "outputs": []
    },
    {
      "cell_type": "code",
      "metadata": {
        "id": "PFxxkBXZ0Fi7",
        "colab_type": "code",
        "colab": {}
      },
      "source": [
        "### Write a program to read an ASCII string \n",
        "### and to convert it to a unicode string encoded by utf-8.\n",
        "\n",
        "#i/p\n",
        "### !\\\"#$%&\\'()*+,-./0123456789:;<=>?@ABCDEFGHIJKLMNOPQRSTUVWXYZ[\\\\]^_`abcdefghijklmnopqrstuvwxyz{|}~\n",
        "#o/p   -->>  notice \\\\ changed to \\\\\\\\ \n",
        "### b'!\\\\\"#$%&\\\\\\'()*+,-./0123456789:;<=>?@ABCDEFGHIJKLMNOPQRSTUVWXYZ[\\\\\\\\]^_`abcdefghijklmnopqrstuvwxyz{|}~'"
      ],
      "execution_count": 0,
      "outputs": []
    },
    {
      "cell_type": "code",
      "metadata": {
        "id": "iVcXfEwc0Kp7",
        "colab_type": "code",
        "colab": {}
      },
      "source": [
        "n = input()\n",
        "\n",
        "n = n.encode('utf-8')\n",
        "\n",
        "print(n)"
      ],
      "execution_count": 0,
      "outputs": []
    },
    {
      "cell_type": "code",
      "metadata": {
        "id": "FgK6bdS21jhx",
        "colab_type": "code",
        "colab": {}
      },
      "source": [
        ""
      ],
      "execution_count": 0,
      "outputs": []
    },
    {
      "cell_type": "code",
      "metadata": {
        "id": "GNTomPFQ1jkw",
        "colab_type": "code",
        "colab": {}
      },
      "source": [
        "\n",
        "# Write a special comment to indicate a Python source code file is in unicode."
      ],
      "execution_count": 0,
      "outputs": []
    },
    {
      "cell_type": "code",
      "metadata": {
        "id": "juiW71xG1jn-",
        "colab_type": "code",
        "colab": {}
      },
      "source": [
        "# -*- coding : utf-8 --*--\n",
        "print(\"# -*- coding : utf-8 --*--\")"
      ],
      "execution_count": 0,
      "outputs": []
    },
    {
      "cell_type": "code",
      "metadata": {
        "id": "LLQHwiAy2Q5e",
        "colab_type": "code",
        "colab": {}
      },
      "source": [
        ""
      ],
      "execution_count": 0,
      "outputs": []
    },
    {
      "cell_type": "code",
      "metadata": {
        "id": "NENDk2a72Q8X",
        "colab_type": "code",
        "colab": {}
      },
      "source": [
        "### Write a program to compute 1/2+2/3+3/4+...+n/n+1 \n",
        "### with a given n input by console (n>0).\n",
        "\n",
        "### Example: If the following n is given as input to the program:\n",
        "\n",
        "#5\n",
        "#Then, the output of the program should be:\n",
        "\n",
        "#3.55"
      ],
      "execution_count": 0,
      "outputs": []
    },
    {
      "cell_type": "code",
      "metadata": {
        "id": "4vaPUy8-2Q_m",
        "colab_type": "code",
        "colab": {}
      },
      "source": [
        "def compute(n):\n",
        "  result = float()\n",
        "  for i in range(1,n+1):\n",
        "    result += i/(i+1)\n",
        "  return round(result,2)\n",
        "\n",
        "n = int(input(\"Please enter number :  \"))\n",
        "print(compute(n))"
      ],
      "execution_count": 0,
      "outputs": []
    },
    {
      "cell_type": "code",
      "metadata": {
        "id": "8oquZsy43wA2",
        "colab_type": "code",
        "colab": {}
      },
      "source": [
        ""
      ],
      "execution_count": 0,
      "outputs": []
    },
    {
      "cell_type": "code",
      "metadata": {
        "id": "pglwiwmM3wL0",
        "colab_type": "code",
        "colab": {}
      },
      "source": [
        "### Assuming that we have some email addresses in the \n",
        "### \"username@companyname.com\" format, please write program to\n",
        "### print the user name of a given email address. Both user names and \n",
        "### company names are composed of letters only.\n",
        "\n",
        "### Example: If the following email address is given as input to the program:\n",
        "\n",
        "### john@google.com\n",
        "### Then, the output of the program should be:\n",
        "\n",
        "### john"
      ],
      "execution_count": 0,
      "outputs": []
    },
    {
      "cell_type": "code",
      "metadata": {
        "id": "msvZWapJ4WOT",
        "colab_type": "code",
        "colab": {}
      },
      "source": [
        "import re\n",
        "n = input()\n",
        "\n",
        "pattern = \"(\\w+)@\\w+.com\"\n",
        "\n",
        "result = re.findall(pattern, n)\n",
        "print(result)"
      ],
      "execution_count": 0,
      "outputs": []
    },
    {
      "cell_type": "code",
      "metadata": {
        "id": "SZmQ_Kko5WqQ",
        "colab_type": "code",
        "colab": {}
      },
      "source": [
        ""
      ],
      "execution_count": 0,
      "outputs": []
    },
    {
      "cell_type": "code",
      "metadata": {
        "id": "xAO5vizI5WuN",
        "colab_type": "code",
        "colab": {}
      },
      "source": [
        "### Write a function to compute 5/0 and use try/except to catch the exceptions."
      ],
      "execution_count": 0,
      "outputs": []
    },
    {
      "cell_type": "code",
      "metadata": {
        "id": "cRaiEcPH5Wmn",
        "colab_type": "code",
        "colab": {}
      },
      "source": [
        "def divide():\n",
        "  return 5/0\n",
        "\n",
        "\n",
        "\n",
        "try:\n",
        "  divide()\n",
        "\n",
        "except ZeroDivisionError as ze :\n",
        "  print(\"You should not divide number by zero  \")\n",
        "except:   # It(default) should be in last other wise error\n",
        "  print(\"Some error came  \")   "
      ],
      "execution_count": 0,
      "outputs": []
    },
    {
      "cell_type": "code",
      "metadata": {
        "id": "QZKMsZn06lub",
        "colab_type": "code",
        "colab": {}
      },
      "source": [
        ""
      ],
      "execution_count": 0,
      "outputs": []
    },
    {
      "cell_type": "code",
      "metadata": {
        "id": "J1f16-lA6lx_",
        "colab_type": "code",
        "colab": {}
      },
      "source": [
        "### Define a custom exception class which takes a string message as attribute"
      ],
      "execution_count": 0,
      "outputs": []
    },
    {
      "cell_type": "code",
      "metadata": {
        "id": "iQXteYue6l2c",
        "colab_type": "code",
        "colab": {}
      },
      "source": [
        "class myException(Exception):\n",
        "\n",
        "  '''\n",
        "  Exception raised for custom purpose\n",
        "\n",
        "    Attributes:\n",
        "        message -- explanation of the error\n",
        "  '''\n",
        "  def __init__(self,msg):\n",
        "    self.msg = msg\n",
        "\n",
        "\n",
        "n = int(input(\"Enter number : \"))\n",
        "try:\n",
        "  if n< 10 :\n",
        "    raise myException(\"Input is less than 10\")\n",
        "  if n>=10:\n",
        "    raise myException(\"Input greater or equal than 10 \")\n",
        "\n",
        "except myException as mE:\n",
        "  print(\"error raised by me :   \", mE.msg)\n",
        "except:\n",
        "  print(\"Some other error might have occured \")\n",
        "     \n",
        "print(myException.__doc__)"
      ],
      "execution_count": 0,
      "outputs": []
    },
    {
      "cell_type": "code",
      "metadata": {
        "id": "-UxGuQf39RYr",
        "colab_type": "code",
        "colab": {}
      },
      "source": [
        ""
      ],
      "execution_count": 0,
      "outputs": []
    },
    {
      "cell_type": "code",
      "metadata": {
        "id": "un-DmBSm9RcW",
        "colab_type": "code",
        "colab": {}
      },
      "source": [
        "### Please raise a RuntimeError exception"
      ],
      "execution_count": 0,
      "outputs": []
    },
    {
      "cell_type": "code",
      "metadata": {
        "id": "hmtvdGQ19Rgl",
        "colab_type": "code",
        "colab": {}
      },
      "source": [
        "raise RuntimeError('something wrong')"
      ],
      "execution_count": 0,
      "outputs": []
    },
    {
      "cell_type": "code",
      "metadata": {
        "id": "nEVLbJXb9uVn",
        "colab_type": "code",
        "colab": {}
      },
      "source": [
        ""
      ],
      "execution_count": 0,
      "outputs": []
    },
    {
      "cell_type": "code",
      "metadata": {
        "id": "atLI_cF29uj2",
        "colab_type": "code",
        "colab": {}
      },
      "source": [
        "### Define a class named Shape and its subclass Square.\n",
        "### The Square class has an init function which takes a length as argument. \n",
        "### Both classes have a area function which can print the area of \n",
        "### the shape where Shape's area is 0 by default."
      ],
      "execution_count": 0,
      "outputs": []
    },
    {
      "cell_type": "code",
      "metadata": {
        "id": "VoDjM-Pc93MZ",
        "colab_type": "code",
        "colab": {}
      },
      "source": [
        "class Shape():\n",
        "  def __init(self):\n",
        "    pass\n",
        "  def area(self):\n",
        "    return 0\n",
        "\n",
        "class Square(Shape):\n",
        "  def __init__(self, length = 0):\n",
        "    Shape.__init__(self)\n",
        "    self.length = length\n",
        "  def area(self):\n",
        "    return self.length **2 \n",
        "\n",
        "Asqr = Square(5)\n",
        "print(Asqr.area())      # prints 25 as given argument\n",
        "\n",
        "print(Square().area())  # prints zero as default area"
      ],
      "execution_count": 0,
      "outputs": []
    },
    {
      "cell_type": "code",
      "metadata": {
        "id": "vTczVHsJ_OWa",
        "colab_type": "code",
        "colab": {}
      },
      "source": [
        ""
      ],
      "execution_count": 0,
      "outputs": []
    },
    {
      "cell_type": "code",
      "metadata": {
        "id": "LWDjR4kn_OmJ",
        "colab_type": "code",
        "colab": {}
      },
      "source": [
        "### Define a class named Circle which can be constructed by a radius. \n",
        "### The Circle class has a method which can compute the area."
      ],
      "execution_count": 0,
      "outputs": []
    },
    {
      "cell_type": "code",
      "metadata": {
        "id": "J4XHVBSe_Vxp",
        "colab_type": "code",
        "colab": {}
      },
      "source": [
        "class Circle():\n",
        "  def __init__(self,r = None):\n",
        "    self.radius = r\n",
        "\n",
        "  def area(self):\n",
        "    return 3.14 * self.radius * self.radius\n",
        "\n",
        "\n",
        "c = Circle(5)\n",
        "print(c.area())\n"
      ],
      "execution_count": 0,
      "outputs": []
    },
    {
      "cell_type": "code",
      "metadata": {
        "id": "ilFYd-Mj_8tA",
        "colab_type": "code",
        "colab": {}
      },
      "source": [
        ""
      ],
      "execution_count": 0,
      "outputs": []
    },
    {
      "cell_type": "code",
      "metadata": {
        "id": "sW88P7eg_8zM",
        "colab_type": "code",
        "colab": {}
      },
      "source": [
        "### Define a class named Rectangle which can be constructed by a length and width. \n",
        "### The Rectangle class has a method which can compute the area."
      ],
      "execution_count": 0,
      "outputs": []
    },
    {
      "cell_type": "code",
      "metadata": {
        "id": "x3dwlZWCABWt",
        "colab_type": "code",
        "colab": {}
      },
      "source": [
        "class Rectangle():\n",
        "  def __init__(self,l= None,w = None):\n",
        "    self.length = l\n",
        "    self.width  = w\n",
        "  def area(self):\n",
        "    return self.length * self.width \n",
        "\n",
        "r = Rectangle(4,5)\n",
        "print(r.area())\n"
      ],
      "execution_count": 0,
      "outputs": []
    },
    {
      "cell_type": "code",
      "metadata": {
        "id": "0Mc4UHvIA8eq",
        "colab_type": "code",
        "colab": {}
      },
      "source": [
        ""
      ],
      "execution_count": 0,
      "outputs": []
    },
    {
      "cell_type": "code",
      "metadata": {
        "id": "DYReNkBbA8iI",
        "colab_type": "code",
        "colab": {}
      },
      "source": [
        "### Write a program which can map() to make a list whose elements are\n",
        "### square of numbers between 1 and 20 (both included).\n",
        "\n"
      ],
      "execution_count": 0,
      "outputs": []
    },
    {
      "cell_type": "code",
      "metadata": {
        "id": "RYu-UNcxA8lF",
        "colab_type": "code",
        "colab": {}
      },
      "source": [
        "def squre(n):\n",
        "  return n*n \n",
        "\n",
        "lst = list(map(squre, range(1,21)))\n",
        "print(lst)\n",
        "\n",
        "# using lambda \n",
        "lst2 = list(map(lambda x : x*x , range(1,21)))\n",
        "print(lst2)"
      ],
      "execution_count": 0,
      "outputs": []
    },
    {
      "cell_type": "code",
      "metadata": {
        "id": "M8TIc8xmCoit",
        "colab_type": "code",
        "colab": {}
      },
      "source": [
        ""
      ],
      "execution_count": 0,
      "outputs": []
    },
    {
      "cell_type": "code",
      "metadata": {
        "id": "5_sd2YTpCowX",
        "colab_type": "code",
        "colab": {}
      },
      "source": [
        "### Define a class named American which has a static method called printNationality."
      ],
      "execution_count": 0,
      "outputs": []
    },
    {
      "cell_type": "code",
      "metadata": {
        "id": "cRVOibpsCsfO",
        "colab_type": "code",
        "colab": {}
      },
      "source": [
        "class American():\n",
        "    @staticmethod\n",
        "    def printNationality():\n",
        "        print(\"I am American\")\n",
        "\n",
        "american = American()\n",
        "american.printNationality()   # this will not run if @staticmethod does not decorates the function.\n",
        "                              # Because the class has no instance.\n",
        "\n",
        "American.printNationality()   # this will run even though the @staticmethod\n",
        "                              # does not decorate printNationality()\n"
      ],
      "execution_count": 0,
      "outputs": []
    },
    {
      "cell_type": "code",
      "metadata": {
        "id": "qgr08I9K3RoW",
        "colab_type": "code",
        "colab": {}
      },
      "source": [
        ""
      ],
      "execution_count": 0,
      "outputs": []
    },
    {
      "cell_type": "code",
      "metadata": {
        "id": "nEIM5dXiCsti",
        "colab_type": "code",
        "colab": {}
      },
      "source": [
        ""
      ],
      "execution_count": 0,
      "outputs": []
    },
    {
      "cell_type": "code",
      "metadata": {
        "id": "Ub8uTDjCCtVQ",
        "colab_type": "code",
        "colab": {}
      },
      "source": [
        "### Define a class named American and its subclass NewYorker"
      ],
      "execution_count": 0,
      "outputs": []
    },
    {
      "cell_type": "code",
      "metadata": {
        "id": "GFBTavzpCtYi",
        "colab_type": "code",
        "colab": {}
      },
      "source": [
        "class American():\n",
        "    pass\n",
        "\n",
        "class NewYorker(American):\n",
        "    pass\n",
        "\n",
        "american = American()\n",
        "newyorker = NewYorker()\n",
        "\n",
        "print(american)\n",
        "print(newyorker)"
      ],
      "execution_count": 0,
      "outputs": []
    },
    {
      "cell_type": "code",
      "metadata": {
        "id": "EcVb1H-ICtcq",
        "colab_type": "code",
        "colab": {}
      },
      "source": [
        ""
      ],
      "execution_count": 0,
      "outputs": []
    },
    {
      "cell_type": "code",
      "metadata": {
        "id": "x9zJaXZJ3SVV",
        "colab_type": "code",
        "colab": {}
      },
      "source": [
        "### With a given tuple (1,2,3,4,5,6,7,8,9,10),\n",
        "### write a program to print the first half values in one line \n",
        "### and the last half values in one line."
      ],
      "execution_count": 0,
      "outputs": []
    },
    {
      "cell_type": "code",
      "metadata": {
        "id": "ApCJ-55g3ZT4",
        "colab_type": "code",
        "colab": {}
      },
      "source": [
        "t = (1,2,3,4,5,6,7,8,9,10)\n",
        "print(t[0:len(t)//2])  # len(t)/2 can give float value so we are using //\n",
        "print(t[len(t)//2 : ])  # [:] by default in left it is 0 & in right maxm length"
      ],
      "execution_count": 0,
      "outputs": []
    },
    {
      "cell_type": "code",
      "metadata": {
        "id": "JChEIIqh4QLl",
        "colab_type": "code",
        "colab": {}
      },
      "source": [
        ""
      ],
      "execution_count": 0,
      "outputs": []
    },
    {
      "cell_type": "code",
      "metadata": {
        "id": "FD0CElhF4QY-",
        "colab_type": "code",
        "colab": {}
      },
      "source": [
        "### Write a program to generate and \n",
        "### print another tuple whose values are even numbers\n",
        "### in the given tuple (1,2,3,4,5,6,7,8,9,10)."
      ],
      "execution_count": 0,
      "outputs": []
    },
    {
      "cell_type": "code",
      "metadata": {
        "id": "uZUu7ztX4YyC",
        "colab_type": "code",
        "outputId": "3892f9dd-6c0a-4453-b478-f993d378d3bc",
        "colab": {
          "base_uri": "https://localhost:8080/",
          "height": 85
        }
      },
      "source": [
        "t =  (1,2,3,4,5,6,7,8,9,10)\n",
        "\n",
        "print(\"####### method 1 ########\")\n",
        "t2 = tuple(i for i in t if int(i)%2==0 )\n",
        "print(t2)\n",
        "\n",
        "print(\"####### Method 2 ########\")\n",
        "t3 = tuple(filter(lambda x : int(x)%2 ==0 , t))\n",
        "print(t3)"
      ],
      "execution_count": 0,
      "outputs": [
        {
          "output_type": "stream",
          "text": [
            "####### method 1 ########\n",
            "(2, 4, 6, 8, 10)\n",
            "####### Method 2 ########\n",
            "(2, 4, 6, 8, 10)\n"
          ],
          "name": "stdout"
        }
      ]
    },
    {
      "cell_type": "code",
      "metadata": {
        "id": "WpWUlI_U4Y2O",
        "colab_type": "code",
        "colab": {}
      },
      "source": [
        ""
      ],
      "execution_count": 0,
      "outputs": []
    },
    {
      "cell_type": "code",
      "metadata": {
        "id": "OlUXiT7_4Y6F",
        "colab_type": "code",
        "colab": {}
      },
      "source": [
        "### Write a program which accepts a string as input \n",
        "### to print \"Yes\" if the string is \"yes\" or \"YES\" or \"Yes\", \n",
        "### otherwise print \"No\".\n",
        "\n"
      ],
      "execution_count": 0,
      "outputs": []
    },
    {
      "cell_type": "code",
      "metadata": {
        "id": "PZ-r9Yp16A1i",
        "colab_type": "code",
        "colab": {}
      },
      "source": [
        "n = input(\"Enter string : \")\n",
        "result = \"\".join([\"Yes\" if n == 'yes' or n =='YES' or n =='Yes' else 'No'])\n",
        "print(result)"
      ],
      "execution_count": 0,
      "outputs": []
    },
    {
      "cell_type": "code",
      "metadata": {
        "id": "eYGdJ6L46A8o",
        "colab_type": "code",
        "colab": {}
      },
      "source": [
        ""
      ],
      "execution_count": 0,
      "outputs": []
    },
    {
      "cell_type": "code",
      "metadata": {
        "id": "FoNC3M_H6BAd",
        "colab_type": "code",
        "colab": {}
      },
      "source": [
        "### Write a program which can map() to make a list \n",
        "### whose elements are square of elements in [1,2,3,4,5,6,7,8,9,10]."
      ],
      "execution_count": 0,
      "outputs": []
    },
    {
      "cell_type": "code",
      "metadata": {
        "id": "CZ5gvavu6BFz",
        "colab_type": "code",
        "colab": {}
      },
      "source": [
        "n = [1,2,3,4,5,6,7,8,9,10]\n",
        "n = list(map(lambda x : x**2 , n)) # without list() it will object\n",
        "print(n)     # Object won't be iterable #will print <map object at ...\n"
      ],
      "execution_count": 0,
      "outputs": []
    },
    {
      "cell_type": "code",
      "metadata": {
        "id": "IbefL5796A5u",
        "colab_type": "code",
        "colab": {}
      },
      "source": [
        ""
      ],
      "execution_count": 0,
      "outputs": []
    },
    {
      "cell_type": "code",
      "metadata": {
        "id": "KGIP3k374Y-a",
        "colab_type": "code",
        "colab": {}
      },
      "source": [
        "### Write a program which can filter() to make a list \n",
        "### whose elements are even number between \n",
        "### 1 and 20 (both included)."
      ],
      "execution_count": 0,
      "outputs": []
    },
    {
      "cell_type": "code",
      "metadata": {
        "id": "pnEMVUQi8tj8",
        "colab_type": "code",
        "colab": {}
      },
      "source": [
        "n = list(filter (lambda x : int(x)%2 ==0 , range(1,21)))\n",
        "print(n)\n",
        "\n",
        "print(\"######### method 2 ########\")\n",
        "\n",
        "def even(n):\n",
        "  return n%2 ==0 \n",
        "\n",
        "evennumbers = filter(even, range(1,21))\n",
        "print(list(evennumbers))"
      ],
      "execution_count": 0,
      "outputs": []
    },
    {
      "cell_type": "code",
      "metadata": {
        "id": "J0_AZ8Wm8tpz",
        "colab_type": "code",
        "colab": {}
      },
      "source": [
        ""
      ],
      "execution_count": 0,
      "outputs": []
    },
    {
      "cell_type": "code",
      "metadata": {
        "id": "csB3ds3F8tu7",
        "colab_type": "code",
        "colab": {}
      },
      "source": [
        "### Define a function which can print a dictionary \n",
        "### where the keys are numbers between 1 and 20 (both included)\n",
        "### and the values are square of keys."
      ],
      "execution_count": 0,
      "outputs": []
    },
    {
      "cell_type": "code",
      "metadata": {
        "id": "0IYz_UfR8tnO",
        "colab_type": "code",
        "colab": {}
      },
      "source": [
        "def f_dic():\n",
        "  d = {i : int(i) ** 2  for i in range (1,21)}\n",
        "  print(d)\n",
        "\n",
        "f_dic()"
      ],
      "execution_count": 0,
      "outputs": []
    },
    {
      "cell_type": "code",
      "metadata": {
        "id": "otN0mBsW-hhW",
        "colab_type": "code",
        "colab": {}
      },
      "source": [
        ""
      ],
      "execution_count": 0,
      "outputs": []
    },
    {
      "cell_type": "code",
      "metadata": {
        "id": "_ldssI2p-hlY",
        "colab_type": "code",
        "colab": {}
      },
      "source": [
        "### Define a function which can generate a dictionary \n",
        "### where the keys are numbers\n",
        "### between 1 and 20 (both included)\n",
        "###  and the values are square of keys.\n",
        "###   The function should just print the keys only"
      ],
      "execution_count": 0,
      "outputs": []
    },
    {
      "cell_type": "code",
      "metadata": {
        "id": "S8Z_dATA-hpF",
        "colab_type": "code",
        "colab": {}
      },
      "source": [
        "def printDictionary():\n",
        "  d = dict()\n",
        "  for i in range(1,21):\n",
        "    d[i] = i*i\n",
        "  print(d.keys())\n",
        " # print(d.values())  # if you want to print values\n",
        "\n",
        "\n",
        "printDictionary()"
      ],
      "execution_count": 0,
      "outputs": []
    },
    {
      "cell_type": "code",
      "metadata": {
        "id": "NST1Ks0p_Veu",
        "colab_type": "code",
        "colab": {}
      },
      "source": [
        ""
      ],
      "execution_count": 0,
      "outputs": []
    },
    {
      "cell_type": "code",
      "metadata": {
        "id": "l1wffskP_ViZ",
        "colab_type": "code",
        "colab": {}
      },
      "source": [
        "### Define a function which can generate \n",
        "### and print a list where the values are \n",
        "### square of numbers between 1 and 20 (both included)."
      ],
      "execution_count": 0,
      "outputs": []
    },
    {
      "cell_type": "code",
      "metadata": {
        "id": "9o7osq1s_VlW",
        "colab_type": "code",
        "colab": {}
      },
      "source": [
        "def printList():\n",
        "  print([i*i  for i in range(1,21)])\n",
        "printList()"
      ],
      "execution_count": 0,
      "outputs": []
    },
    {
      "cell_type": "code",
      "metadata": {
        "id": "oJQt-ygK_1px",
        "colab_type": "code",
        "colab": {}
      },
      "source": [
        ""
      ],
      "execution_count": 0,
      "outputs": []
    },
    {
      "cell_type": "code",
      "metadata": {
        "id": "70RBIxtB_1uy",
        "colab_type": "code",
        "colab": {}
      },
      "source": [
        "### Define a function which can generate a list where the values are\n",
        "### square of numbers between 1 and 20 (both included). \n",
        "### Then the function needs to print the first 5 elements in the list."
      ],
      "execution_count": 0,
      "outputs": []
    },
    {
      "cell_type": "code",
      "metadata": {
        "id": "uthVOEhX_10x",
        "colab_type": "code",
        "colab": {}
      },
      "source": [
        "def printList():\n",
        "  print(list([i*i  for i in range(1,21)])[:5])\n",
        "printList()\n",
        "\n",
        "fun = lambda : print([i**2 for i in range(1,21)] [0:5])\n",
        "fun()"
      ],
      "execution_count": 0,
      "outputs": []
    },
    {
      "cell_type": "code",
      "metadata": {
        "id": "TH3RGWidA777",
        "colab_type": "code",
        "colab": {}
      },
      "source": [
        ""
      ],
      "execution_count": 0,
      "outputs": []
    },
    {
      "cell_type": "code",
      "metadata": {
        "id": "4LZd1fqbA8Be",
        "colab_type": "code",
        "colab": {}
      },
      "source": [
        "### Define a function which can generate a list where the values are \n",
        "### square of numbers between 1 and 20 (both included). \n",
        "### Then the function needs to print the last 5 elements in the list."
      ],
      "execution_count": 0,
      "outputs": []
    },
    {
      "cell_type": "code",
      "metadata": {
        "id": "ulWRGRCTA8FS",
        "colab_type": "code",
        "outputId": "ab4d5ba7-529d-4b31-81ce-386cb77e9671",
        "colab": {
          "base_uri": "https://localhost:8080/",
          "height": 34
        }
      },
      "source": [
        "fun = lambda : print([i**2  for i in range(1,21)][-5:])\n",
        "fun()"
      ],
      "execution_count": 0,
      "outputs": [
        {
          "output_type": "stream",
          "text": [
            "[256, 289, 324, 361, 400]\n"
          ],
          "name": "stdout"
        }
      ]
    },
    {
      "cell_type": "code",
      "metadata": {
        "id": "CalkPg9KA7_Z",
        "colab_type": "code",
        "colab": {}
      },
      "source": [
        ""
      ],
      "execution_count": 0,
      "outputs": []
    },
    {
      "cell_type": "code",
      "metadata": {
        "id": "lBoz7ueCBbhP",
        "colab_type": "code",
        "colab": {}
      },
      "source": [
        "### Define a function which can generate a list \n",
        "### where the values are square of numbers \n",
        "### between 1 and 20 (both included).\n",
        "### Then the function needs to print all values \n",
        "### except the first 5 elements in the list."
      ],
      "execution_count": 0,
      "outputs": []
    },
    {
      "cell_type": "code",
      "metadata": {
        "id": "eab34nLRBkwM",
        "colab_type": "code",
        "colab": {}
      },
      "source": [
        "fun = lambda : print([i**2    for i in range(1,21)][5:])\n",
        "fun()"
      ],
      "execution_count": 0,
      "outputs": []
    },
    {
      "cell_type": "code",
      "metadata": {
        "id": "Eij7B2uVBk0Z",
        "colab_type": "code",
        "colab": {}
      },
      "source": [
        ""
      ],
      "execution_count": 0,
      "outputs": []
    },
    {
      "cell_type": "code",
      "metadata": {
        "id": "rdSa5csCBk8h",
        "colab_type": "code",
        "colab": {}
      },
      "source": [
        "### Define a function which can generate and \n",
        "### print a tuple where the value are square of numbers\n",
        "### between 1 and 20 (both included)."
      ],
      "execution_count": 0,
      "outputs": []
    },
    {
      "cell_type": "code",
      "metadata": {
        "id": "qQik_ttFBlCD",
        "colab_type": "code",
        "colab": {}
      },
      "source": [
        "fun = lambda : print(tuple(i**2    for i  in range(1,21)))\n",
        "fun()"
      ],
      "execution_count": 0,
      "outputs": []
    },
    {
      "cell_type": "code",
      "metadata": {
        "id": "szKAD847BlFe",
        "colab_type": "code",
        "colab": {}
      },
      "source": [
        ""
      ],
      "execution_count": 0,
      "outputs": []
    },
    {
      "cell_type": "code",
      "metadata": {
        "id": "iu06yaT2BlK1",
        "colab_type": "code",
        "colab": {}
      },
      "source": [
        "### Define a function which can compute the sum of two numbers."
      ],
      "execution_count": 0,
      "outputs": []
    },
    {
      "cell_type": "code",
      "metadata": {
        "id": "FBJxKyUeBlPe",
        "colab_type": "code",
        "colab": {}
      },
      "source": [
        "def add(n1,n2):\n",
        "  return int(n1) + int(n2)\n",
        "\n",
        "print(add(5,10))"
      ],
      "execution_count": 0,
      "outputs": []
    },
    {
      "cell_type": "code",
      "metadata": {
        "id": "0gM8RYgtBlIn",
        "colab_type": "code",
        "colab": {}
      },
      "source": [
        ""
      ],
      "execution_count": 0,
      "outputs": []
    },
    {
      "cell_type": "code",
      "metadata": {
        "id": "xBJ7IQcjBlAc",
        "colab_type": "code",
        "colab": {}
      },
      "source": [
        "### Define a function that can convert a integer into a string and print it in console."
      ],
      "execution_count": 0,
      "outputs": []
    },
    {
      "cell_type": "code",
      "metadata": {
        "id": "64v6mwBsBk5l",
        "colab_type": "code",
        "colab": {}
      },
      "source": [
        "def convert_int_str(n):\n",
        "  n = str(n)\n",
        "  print(\"Type of n after converted    \", type(n))\n",
        "  print(n)\n",
        "\n",
        "\n",
        "n = 5\n",
        "print(\"Type of n before converted   \", type(n))\n",
        "convert_int_str(n)"
      ],
      "execution_count": 0,
      "outputs": []
    },
    {
      "cell_type": "code",
      "metadata": {
        "id": "DzaHcNSZDhkT",
        "colab_type": "code",
        "colab": {}
      },
      "source": [
        ""
      ],
      "execution_count": 0,
      "outputs": []
    },
    {
      "cell_type": "code",
      "metadata": {
        "id": "Lx2cQBOHDhqR",
        "colab_type": "code",
        "colab": {}
      },
      "source": [
        "### Define a function that can receive two integer numbers\n",
        "### in string form and compute their sum and then print it in console."
      ],
      "execution_count": 0,
      "outputs": []
    },
    {
      "cell_type": "code",
      "metadata": {
        "id": "r2f_ZGaODhvz",
        "colab_type": "code",
        "colab": {}
      },
      "source": [
        "con = lambda n1,n2 : print(int(n1)+ int(n2))\n",
        "\n",
        "con(str(5), str(6))"
      ],
      "execution_count": 0,
      "outputs": []
    },
    {
      "cell_type": "code",
      "metadata": {
        "id": "JI2Y72rBDh4O",
        "colab_type": "code",
        "colab": {}
      },
      "source": [
        ""
      ],
      "execution_count": 0,
      "outputs": []
    },
    {
      "cell_type": "code",
      "metadata": {
        "id": "L15v1G4HDh8G",
        "colab_type": "code",
        "colab": {}
      },
      "source": [
        "### Define a function that can accept two strings \n",
        "### as input and concatenate them and then print it in console"
      ],
      "execution_count": 0,
      "outputs": []
    },
    {
      "cell_type": "code",
      "metadata": {
        "id": "JXQ0SvfWDiGh",
        "colab_type": "code",
        "colab": {}
      },
      "source": [
        "sum = lambda s1, s2 : s1+s2\n",
        "print(sum(\"101\", \"201\"))"
      ],
      "execution_count": 0,
      "outputs": []
    },
    {
      "cell_type": "code",
      "metadata": {
        "id": "w8gjtv2YDiMn",
        "colab_type": "code",
        "colab": {}
      },
      "source": [
        ""
      ],
      "execution_count": 0,
      "outputs": []
    },
    {
      "cell_type": "code",
      "metadata": {
        "id": "3KfqUpSCDiQT",
        "colab_type": "code",
        "colab": {}
      },
      "source": [
        "### Define a function that can accept two strings\n",
        "### as input and print the string with maximum length in console. \n",
        "### If two strings have the same length, \n",
        "### then the function should print all strings line by line."
      ],
      "execution_count": 0,
      "outputs": []
    },
    {
      "cell_type": "code",
      "metadata": {
        "id": "s060i0o1DiUI",
        "colab_type": "code",
        "colab": {}
      },
      "source": [
        "fun = lambda s1, s2 : print(max((s1,s2), key = len))  if len(s1) != len(s2) else print(s1,\"\\n\",s2) \n",
        "\n",
        "func(input(\"Enter 1st str :  \"), input(\"Enter 2nd str :  \"))"
      ],
      "execution_count": 0,
      "outputs": []
    },
    {
      "cell_type": "code",
      "metadata": {
        "id": "XPhQl3R5Upk5",
        "colab_type": "code",
        "colab": {}
      },
      "source": [
        "import zlib\n",
        "s = b'hello world!hello world!hello world!hello world!'\n",
        "t = zlib.compress(s)\n",
        "print (t)\n",
        "print (zlib.decompress(t))"
      ],
      "execution_count": 0,
      "outputs": []
    },
    {
      "cell_type": "code",
      "metadata": {
        "id": "9yANq5o-lwDd",
        "colab_type": "code",
        "colab": {}
      },
      "source": [
        ""
      ],
      "execution_count": 0,
      "outputs": []
    },
    {
      "cell_type": "code",
      "metadata": {
        "id": "klfAZaz5lv_Y",
        "colab_type": "code",
        "colab": {}
      },
      "source": [
        ""
      ],
      "execution_count": 0,
      "outputs": []
    },
    {
      "cell_type": "code",
      "metadata": {
        "id": "kP-DHx4tlv4z",
        "colab_type": "code",
        "colab": {}
      },
      "source": [
        ""
      ],
      "execution_count": 0,
      "outputs": []
    }
  ]
}