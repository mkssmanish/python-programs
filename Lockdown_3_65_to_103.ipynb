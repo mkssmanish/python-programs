{
  "nbformat": 4,
  "nbformat_minor": 0,
  "metadata": {
    "colab": {
      "name": "Lockdown 3 65 to 103.ipynb",
      "provenance": [],
      "collapsed_sections": []
    },
    "kernelspec": {
      "name": "python3",
      "display_name": "Python 3"
    }
  },
  "cells": [
    {
      "cell_type": "code",
      "metadata": {
        "id": "Cv7EOYwGl03M",
        "colab_type": "code",
        "colab": {}
      },
      "source": [
        "#65"
      ],
      "execution_count": 0,
      "outputs": []
    },
    {
      "cell_type": "code",
      "metadata": {
        "id": "S8jVgdy8mGoa",
        "colab_type": "code",
        "colab": {}
      },
      "source": [
        "###  Please write assert statements to verify that\n",
        "### every number in the list [2,4,6,8] is even."
      ],
      "execution_count": 0,
      "outputs": []
    },
    {
      "cell_type": "code",
      "metadata": {
        "id": "6ROajCRCmGrA",
        "colab_type": "code",
        "colab": {}
      },
      "source": [
        "li = [2,4,6,10]\n",
        "#li = [1,2,4,6,7,10]\n",
        "\n",
        "for i in li :\n",
        "  assert i%2 == 0 , \"{} is not even number \".format(i)\n",
        "# if any odd number then o/p will come like this first odd\n",
        "# in that case -->  End of program line will not execute\n",
        "\n",
        "# AssertionError: 1 is not even number\n",
        "print(\"End of Program\")"
      ],
      "execution_count": 0,
      "outputs": []
    },
    {
      "cell_type": "code",
      "metadata": {
        "id": "he4W27g5mGte",
        "colab_type": "code",
        "colab": {}
      },
      "source": [
        "#66 "
      ],
      "execution_count": 0,
      "outputs": []
    },
    {
      "cell_type": "code",
      "metadata": {
        "id": "vM3p6ch0mGwR",
        "colab_type": "code",
        "colab": {}
      },
      "source": [
        "### Please write a program which accepts basic mathematic expression \n",
        "### from console and print the evaluation result."
      ],
      "execution_count": 0,
      "outputs": []
    },
    {
      "cell_type": "code",
      "metadata": {
        "id": "RBO6WcfsmGyr",
        "colab_type": "code",
        "colab": {}
      },
      "source": [
        "expression = \"35 + 45\"\n",
        "result = eval(expression)\n",
        "print(expression , \" = \" , result)"
      ],
      "execution_count": 0,
      "outputs": []
    },
    {
      "cell_type": "code",
      "metadata": {
        "id": "s7r09OMZmG1d",
        "colab_type": "code",
        "colab": {}
      },
      "source": [
        "#67"
      ],
      "execution_count": 0,
      "outputs": []
    },
    {
      "cell_type": "code",
      "metadata": {
        "id": "kI-e9ZBbmG4Z",
        "colab_type": "code",
        "colab": {}
      },
      "source": [
        "### Please write a binary search function which searches \n",
        "### an item in a sorted list. The function should return \n",
        "### the index of element to be searched in the list.\n",
        "\n"
      ],
      "execution_count": 0,
      "outputs": []
    },
    {
      "cell_type": "code",
      "metadata": {
        "id": "wgQqiR_NmG71",
        "colab_type": "code",
        "colab": {}
      },
      "source": [
        "import math \n",
        "def binary_search(sorted_array, item_to_search):\n",
        "\n",
        "  lower = 0\n",
        "  high = len(sorted_array)\n",
        "  count = 0\n",
        "\n",
        "  while (lower < high ):\n",
        "    \n",
        "    if count >= math.sqrt(len(sorted_array)):\n",
        "      return -1\n",
        "    count += 1\n",
        "    \n",
        "    mid = (lower + high) //2\n",
        "    if sorted_array[mid]== item_to_search:\n",
        "      return mid\n",
        "    if sorted_array[mid] > item_to_search:\n",
        "      high = mid\n",
        "    if sorted_array[mid] < item_to_search :\n",
        "      lower = mid\n",
        "\n",
        "  return -1  \n",
        "\n",
        "print(\"Start \")\n",
        "sorted_array = [1,5,8,10,12,13,55,66,73,78,82,85,88,99]\n",
        "print('The Value Found at Index:',binary_search(sorted_array, 55))\n",
        "\n",
        "# if postion is -1 , that means element not found \n",
        "  "
      ],
      "execution_count": 0,
      "outputs": []
    },
    {
      "cell_type": "code",
      "metadata": {
        "id": "2BQh1VUz7Je-",
        "colab_type": "code",
        "colab": {}
      },
      "source": [
        ""
      ],
      "execution_count": 0,
      "outputs": []
    },
    {
      "cell_type": "code",
      "metadata": {
        "id": "l38ruGzw3gBO",
        "colab_type": "code",
        "colab": {}
      },
      "source": [
        ""
      ],
      "execution_count": 0,
      "outputs": []
    },
    {
      "cell_type": "code",
      "metadata": {
        "id": "v6RwhriwseEx",
        "colab_type": "code",
        "colab": {}
      },
      "source": [
        "### Please generate a random float where \n",
        "### the value is between 10 and 100 using Python module."
      ],
      "execution_count": 0,
      "outputs": []
    },
    {
      "cell_type": "code",
      "metadata": {
        "id": "i0tYmAitsd9M",
        "colab_type": "code",
        "colab": {}
      },
      "source": [
        "import random\n",
        "print(random.random()*100)\n",
        "print(random.uniform(10,100))"
      ],
      "execution_count": 0,
      "outputs": []
    },
    {
      "cell_type": "code",
      "metadata": {
        "id": "18uxMP6Dszcp",
        "colab_type": "code",
        "colab": {}
      },
      "source": [
        ""
      ],
      "execution_count": 0,
      "outputs": []
    },
    {
      "cell_type": "code",
      "metadata": {
        "id": "UFAOQA48szih",
        "colab_type": "code",
        "colab": {}
      },
      "source": [
        "### Please generate a random float where the value \n",
        "### is between 5 and 95 using Python module."
      ],
      "execution_count": 0,
      "outputs": []
    },
    {
      "cell_type": "code",
      "metadata": {
        "id": "tc6Q8Xluszlz",
        "colab_type": "code",
        "colab": {}
      },
      "source": [
        "import random\n",
        "print(random.random()*100  - 5)\n",
        "print(random.uniform(5,95))"
      ],
      "execution_count": 0,
      "outputs": []
    },
    {
      "cell_type": "code",
      "metadata": {
        "id": "ZXX3sG54zsuX",
        "colab_type": "code",
        "colab": {}
      },
      "source": [
        ""
      ],
      "execution_count": 0,
      "outputs": []
    },
    {
      "cell_type": "code",
      "metadata": {
        "id": "D4aUN5uHszgl",
        "colab_type": "code",
        "colab": {}
      },
      "source": [
        "### Please write a program to output a random even number\n",
        "### between 0 and 10 inclusive using random module \n",
        "### and list comprehension."
      ],
      "execution_count": 0,
      "outputs": []
    },
    {
      "cell_type": "code",
      "metadata": {
        "id": "j6nOEC2-z0Nw",
        "colab_type": "code",
        "colab": {}
      },
      "source": [
        "li = [0,2,4,6,8,10]\n",
        "\n",
        "li = [i for i in range (0,11,2) ]\n",
        "print(random.choice(li))"
      ],
      "execution_count": 0,
      "outputs": []
    },
    {
      "cell_type": "code",
      "metadata": {
        "id": "VgC2bM1yz0V3",
        "colab_type": "code",
        "colab": {}
      },
      "source": [
        ""
      ],
      "execution_count": 0,
      "outputs": []
    },
    {
      "cell_type": "code",
      "metadata": {
        "id": "L-P_SgTGz0TV",
        "colab_type": "code",
        "colab": {}
      },
      "source": [
        "### Please write a program to output a random number, \n",
        "### which is divisible by 5 and 7, between 10 and 150 \n",
        "### inclusive using random module and list comprehension."
      ],
      "execution_count": 0,
      "outputs": []
    },
    {
      "cell_type": "code",
      "metadata": {
        "id": "_9A7NUqSz0LR",
        "colab_type": "code",
        "colab": {}
      },
      "source": [
        "li = [i for i in range (10,151) if i%5 == 0 and i%7 == 0]\n",
        "print(random.choice(li))"
      ],
      "execution_count": 0,
      "outputs": []
    },
    {
      "cell_type": "code",
      "metadata": {
        "id": "w7PF_15D5_eb",
        "colab_type": "code",
        "colab": {}
      },
      "source": [
        ""
      ],
      "execution_count": 0,
      "outputs": []
    },
    {
      "cell_type": "code",
      "metadata": {
        "id": "1KZKYQZw5_hO",
        "colab_type": "code",
        "colab": {}
      },
      "source": [
        "### Please write a program to generate a list \n",
        "### with 5 random numbers between 100 and 200 inclusive."
      ],
      "execution_count": 0,
      "outputs": []
    },
    {
      "cell_type": "code",
      "metadata": {
        "id": "pq7LkI305_l3",
        "colab_type": "code",
        "colab": {}
      },
      "source": [
        "import random \n",
        "li = random.sample(range(10,201),5)\n",
        "print(li)"
      ],
      "execution_count": 0,
      "outputs": []
    },
    {
      "cell_type": "code",
      "metadata": {
        "id": "EtSrRu6Z5_o9",
        "colab_type": "code",
        "colab": {}
      },
      "source": [
        ""
      ],
      "execution_count": 0,
      "outputs": []
    },
    {
      "cell_type": "code",
      "metadata": {
        "id": "lsoce1ov5_rc",
        "colab_type": "code",
        "colab": {}
      },
      "source": [
        "### Please write a program to randomly generate a list\n",
        "### with 5 even numbers between 100 and 200 inclusive."
      ],
      "execution_count": 0,
      "outputs": []
    },
    {
      "cell_type": "code",
      "metadata": {
        "id": "CVrCkRZd5_uG",
        "colab_type": "code",
        "colab": {}
      },
      "source": [
        "import random\n",
        "li = [i for i in range (100,200) if i%2 == 0]\n",
        "ans = random.sample(li,5)\n",
        "print(ans)"
      ],
      "execution_count": 0,
      "outputs": []
    },
    {
      "cell_type": "code",
      "metadata": {
        "id": "Mlf8pYkB5_w1",
        "colab_type": "code",
        "colab": {}
      },
      "source": [
        ""
      ],
      "execution_count": 0,
      "outputs": []
    },
    {
      "cell_type": "code",
      "metadata": {
        "id": "M6HPU6355_2b",
        "colab_type": "code",
        "colab": {}
      },
      "source": [
        "### Please write a program to \n",
        "### randomly generate a list with 5 numbers,\n",
        "### which are divisible by 5 and 7 , \n",
        "### between 1 and 1000 inclusive."
      ],
      "execution_count": 0,
      "outputs": []
    },
    {
      "cell_type": "code",
      "metadata": {
        "id": "S-2S0RdM5_5z",
        "colab_type": "code",
        "colab": {}
      },
      "source": [
        "import random \n",
        "li = [i for i in range(1,1001)   if i%5 == 0 and i%7 == 0]\n",
        "print(random.sample(li,5))"
      ],
      "execution_count": 0,
      "outputs": []
    },
    {
      "cell_type": "code",
      "metadata": {
        "id": "UJRKfco45_-X",
        "colab_type": "code",
        "colab": {}
      },
      "source": [
        ""
      ],
      "execution_count": 0,
      "outputs": []
    },
    {
      "cell_type": "code",
      "metadata": {
        "id": "JeNeFmq96ABp",
        "colab_type": "code",
        "colab": {}
      },
      "source": [
        "### Please write a program to randomly print \n",
        "### a integer number between 7 and 15 inclusive."
      ],
      "execution_count": 0,
      "outputs": []
    },
    {
      "cell_type": "code",
      "metadata": {
        "id": "NiISkxZh5_0j",
        "colab_type": "code",
        "colab": {}
      },
      "source": [
        "import random \n",
        "print(random.choice(range( 7,16)))\n",
        "print(random.randrange(7,16))"
      ],
      "execution_count": 0,
      "outputs": []
    },
    {
      "cell_type": "code",
      "metadata": {
        "id": "F6sZnepX5_j0",
        "colab_type": "code",
        "colab": {}
      },
      "source": [
        ""
      ],
      "execution_count": 0,
      "outputs": []
    },
    {
      "cell_type": "code",
      "metadata": {
        "id": "dzjmMhwe5_bf",
        "colab_type": "code",
        "colab": {}
      },
      "source": [
        "### Please write a program to compress and decompress the string \n",
        "### \"hello world!hello world!hello world!hello world!\".\n",
        "\n"
      ],
      "execution_count": 0,
      "outputs": []
    },
    {
      "cell_type": "code",
      "metadata": {
        "id": "aamB3orH8jya",
        "colab_type": "code",
        "colab": {}
      },
      "source": [
        "import zlib \n",
        "string = \"hello world!hello world!hello world!hello world!\"   \n",
        "compressed_string = zlib.compress(string.encode())                    \n",
        "print(compressed_string)                                \n",
        "print(zlib.decompress(compressed_string).decode())\n",
        "\n",
        "# Note : you can decompress only byte string \n",
        "# in simple word --> string in format   b \" ---- \" known as byte string\n",
        "# for more go to this link  https://docs.python.org/3/library/zlib.html"
      ],
      "execution_count": 0,
      "outputs": []
    },
    {
      "cell_type": "code",
      "metadata": {
        "id": "DrU7IDYQ8j08",
        "colab_type": "code",
        "colab": {}
      },
      "source": [
        ""
      ],
      "execution_count": 0,
      "outputs": []
    },
    {
      "cell_type": "code",
      "metadata": {
        "id": "PaypamLS8j3z",
        "colab_type": "code",
        "colab": {}
      },
      "source": [
        "### Please write a program to print the\n",
        "### running time of execution of \"1+1\" for 100 times."
      ],
      "execution_count": 0,
      "outputs": []
    },
    {
      "cell_type": "code",
      "metadata": {
        "id": "NlRr1PAR8jw8",
        "colab_type": "code",
        "colab": {}
      },
      "source": [
        "import time\n",
        "import datetime\n",
        "before_execution_time= time.time()\n",
        "for i in range(100):\n",
        "  sum = 1+1\n",
        "after_execution_time = time.time()\n",
        "running_time = before_execution_time - after_execution_time\n",
        "print(running_time)"
      ],
      "execution_count": 0,
      "outputs": []
    },
    {
      "cell_type": "code",
      "metadata": {
        "id": "6h7zGKcU8jut",
        "colab_type": "code",
        "colab": {}
      },
      "source": [
        ""
      ],
      "execution_count": 0,
      "outputs": []
    },
    {
      "cell_type": "code",
      "metadata": {
        "id": "s-VDI2QC8jsg",
        "colab_type": "code",
        "colab": {}
      },
      "source": [
        "### Please write a program to shuffle and \n",
        "### print the list [3,6,7,8]."
      ],
      "execution_count": 0,
      "outputs": []
    },
    {
      "cell_type": "code",
      "metadata": {
        "id": "UQAoicLY8jl_",
        "colab_type": "code",
        "colab": {}
      },
      "source": [
        "import random \n",
        "li = [3,6,7,8]\n",
        "seed = 1\n",
        "random.Random(seed).shuffle(li)\n",
        "print(li)"
      ],
      "execution_count": 0,
      "outputs": []
    },
    {
      "cell_type": "code",
      "metadata": {
        "id": "OzPovvd-AB36",
        "colab_type": "code",
        "colab": {}
      },
      "source": [
        ""
      ],
      "execution_count": 0,
      "outputs": []
    },
    {
      "cell_type": "code",
      "metadata": {
        "id": "IIIJKwIUABzj",
        "colab_type": "code",
        "colab": {}
      },
      "source": [
        "### Please write a program to generate all sentences where \n",
        "### subject is in [\"I\", \"You\"] and verb is in [\"Play\", \"Love\"] \n",
        "### and  the object is in [\"Hockey\",\"Football\"]."
      ],
      "execution_count": 0,
      "outputs": []
    },
    {
      "cell_type": "code",
      "metadata": {
        "id": "0NT3fcGxz0H_",
        "colab_type": "code",
        "colab": {}
      },
      "source": [
        "subjects = [\"I\", \"You\"]\n",
        "verbs    = [\"Play\", \"Love\"] \n",
        "objects    = [\"Hockey\",\"Football\"]\n",
        "\n",
        "\n",
        "for subject in subjects :\n",
        "  for verb in verbs :\n",
        "    for object in objects :\n",
        "      print(subject,\" \",verb, \" \", object)\n",
        "\n",
        "print(\"###############END####################\")"
      ],
      "execution_count": 0,
      "outputs": []
    },
    {
      "cell_type": "code",
      "metadata": {
        "id": "OjSeI_5YBgcN",
        "colab_type": "code",
        "colab": {}
      },
      "source": [
        ""
      ],
      "execution_count": 0,
      "outputs": []
    },
    {
      "cell_type": "code",
      "metadata": {
        "id": "hDZu_y9mBghS",
        "colab_type": "code",
        "colab": {}
      },
      "source": [
        "### Please write a program to print the list \n",
        "### after removing even numbers in [5,6,77,45,22,12,24]"
      ],
      "execution_count": 0,
      "outputs": []
    },
    {
      "cell_type": "code",
      "metadata": {
        "id": "ZlkZzoRPBgm4",
        "colab_type": "code",
        "colab": {}
      },
      "source": [
        "li = [5,6,77,45,22,12,24]\n",
        "li = [i for i in li if i%2 != 0]\n",
        "print(li)"
      ],
      "execution_count": 0,
      "outputs": []
    },
    {
      "cell_type": "code",
      "metadata": {
        "id": "iOGdX-eSBgp9",
        "colab_type": "code",
        "colab": {}
      },
      "source": [
        "def removingEvenNumber(n):\n",
        "  return n%2 != 0\n",
        "\n",
        "li =  [5,6,77,45,22,12,24]\n",
        "n =    list(filter(removingEvenNumber, li))\n",
        "print(n)"
      ],
      "execution_count": 0,
      "outputs": []
    },
    {
      "cell_type": "code",
      "metadata": {
        "id": "AgevGwwoBgtQ",
        "colab_type": "code",
        "colab": {}
      },
      "source": [
        " li = [5,6,77,45,22,12,24]\n",
        " li =   list(filter(lambda n : n%2 != 0, li ))\n",
        " print(li)"
      ],
      "execution_count": 0,
      "outputs": []
    },
    {
      "cell_type": "code",
      "metadata": {
        "id": "QRMui_AeBgy2",
        "colab_type": "code",
        "colab": {}
      },
      "source": [
        ""
      ],
      "execution_count": 0,
      "outputs": []
    },
    {
      "cell_type": "code",
      "metadata": {
        "id": "-Vceq-pcBg2O",
        "colab_type": "code",
        "colab": {}
      },
      "source": [
        "### By using list comprehension, please write a program \n",
        "### to print the list after removing numbers which \n",
        "### are divisible by 5 and 7 in [12,24,35,70,88,120,155]."
      ],
      "execution_count": 0,
      "outputs": []
    },
    {
      "cell_type": "code",
      "metadata": {
        "id": "jFbkfSpOBgwL",
        "colab_type": "code",
        "colab": {}
      },
      "source": [
        "li = [12,24,35,70,88,120,155]\n",
        "li = [x for x in li if x % 35!=0]\n",
        "print(li)"
      ],
      "execution_count": 0,
      "outputs": []
    },
    {
      "cell_type": "code",
      "metadata": {
        "id": "OU3NVkEuBglm",
        "colab_type": "code",
        "colab": {}
      },
      "source": [
        ""
      ],
      "execution_count": 0,
      "outputs": []
    },
    {
      "cell_type": "code",
      "metadata": {
        "id": "Uj8TvIwZBgfc",
        "colab_type": "code",
        "colab": {}
      },
      "source": [
        "### By using list comprehension, please write a program to \n",
        "### print the list after removing the 0th, 2nd, 4th,6th \n",
        "### numbers in [12,24,35,70,88,120,155]."
      ],
      "execution_count": 0,
      "outputs": []
    },
    {
      "cell_type": "code",
      "metadata": {
        "id": "C35AWnFSBgaT",
        "colab_type": "code",
        "colab": {}
      },
      "source": [
        "li = [12,24,35,70,88,120,155]\n",
        "li = [ li[i]    for i in range(len(li))    if i%2 !=0]\n",
        "print(li)"
      ],
      "execution_count": 0,
      "outputs": []
    },
    {
      "cell_type": "code",
      "metadata": {
        "id": "bvIslMgdBgZL",
        "colab_type": "code",
        "colab": {}
      },
      "source": [
        ""
      ],
      "execution_count": 0,
      "outputs": []
    },
    {
      "cell_type": "code",
      "metadata": {
        "id": "W4tcnr0TBgWb",
        "colab_type": "code",
        "colab": {}
      },
      "source": [
        "### By using list comprehension, please write a program \n",
        "### to print the list after removing the 2nd - 4th numbers\n",
        "### in [12,24,35,70,88,120,155]."
      ],
      "execution_count": 0,
      "outputs": []
    },
    {
      "cell_type": "code",
      "metadata": {
        "id": "CCHfd4XTBgQg",
        "colab_type": "code",
        "colab": {}
      },
      "source": [
        "li = [12,24,35,70,88,120,155]\n",
        "li = [  li[i]   for i in range(len(li))    if i <2 or i>4   ]\n",
        "\n",
        "print(li)\n"
      ],
      "execution_count": 0,
      "outputs": []
    },
    {
      "cell_type": "code",
      "metadata": {
        "id": "1iMvJ_61FLVc",
        "colab_type": "code",
        "colab": {}
      },
      "source": [
        ""
      ],
      "execution_count": 0,
      "outputs": []
    },
    {
      "cell_type": "code",
      "metadata": {
        "id": "1l0wvIODFLZw",
        "colab_type": "code",
        "colab": {}
      },
      "source": [
        "### By using list comprehension, please write a program \n",
        "### generate a 3*5*8 3D array whose each element is 0."
      ],
      "execution_count": 0,
      "outputs": []
    },
    {
      "cell_type": "code",
      "metadata": {
        "id": "Xgbuqdl6FLeF",
        "colab_type": "code",
        "colab": {}
      },
      "source": [
        "li = [ [[ 0 for i in range (8) ]   for j in range(5) ]  for k in range(3)]\n",
        "print(li)"
      ],
      "execution_count": 0,
      "outputs": []
    },
    {
      "cell_type": "code",
      "metadata": {
        "id": "D6CRrTi1FLj2",
        "colab_type": "code",
        "colab": {}
      },
      "source": [
        "##############  Day21"
      ],
      "execution_count": 0,
      "outputs": []
    },
    {
      "cell_type": "code",
      "metadata": {
        "id": "layy6aFwFLnb",
        "colab_type": "code",
        "colab": {}
      },
      "source": [
        "### By using list comprehension, please write a program to \n",
        "### print the list after removing the 0th,4th,5th numbers \n",
        "### in [12,24,35,70,88,120,155]."
      ],
      "execution_count": 0,
      "outputs": []
    },
    {
      "cell_type": "code",
      "metadata": {
        "id": "WOnAZE7eFLqp",
        "colab_type": "code",
        "outputId": "c88878df-e1c9-42be-ab8c-bf523e219c33",
        "colab": {
          "base_uri": "https://localhost:8080/",
          "height": 34
        }
      },
      "source": [
        "li = [12,24,35,70,88,120,155]\n",
        "li = [li[i]  for i in range(len(li)) if i not in (0,4,5)]\n",
        "print(li)"
      ],
      "execution_count": 0,
      "outputs": [
        {
          "output_type": "stream",
          "text": [
            "[24, 35, 70, 155]\n"
          ],
          "name": "stdout"
        }
      ]
    },
    {
      "cell_type": "code",
      "metadata": {
        "id": "kP0xBOqxFLuF",
        "colab_type": "code",
        "colab": {}
      },
      "source": [
        ""
      ],
      "execution_count": 0,
      "outputs": []
    },
    {
      "cell_type": "code",
      "metadata": {
        "id": "DMzM6gS5FLhI",
        "colab_type": "code",
        "colab": {}
      },
      "source": [
        "### By using list comprehension, please write a program to\n",
        "### print the list after removing the value 24\n",
        "### in [12,35,24,88,120,155].\n",
        "\n"
      ],
      "execution_count": 0,
      "outputs": []
    },
    {
      "cell_type": "code",
      "metadata": {
        "id": "Jl-Ggq1h0RQz",
        "colab_type": "code",
        "colab": {}
      },
      "source": [
        "li = [12,35,24,88,120,155]\n",
        "li.remove(24)\n",
        "print(li)\n",
        "\n",
        "# or \n",
        "li = [12,35,24,88,120,155]\n",
        "li = [i  for i in li if i != 24]\n",
        "print(li)\n",
        "\n",
        "\n"
      ],
      "execution_count": 0,
      "outputs": []
    },
    {
      "cell_type": "code",
      "metadata": {
        "id": "nPIAYDLc0RUK",
        "colab_type": "code",
        "colab": {}
      },
      "source": [
        ""
      ],
      "execution_count": 0,
      "outputs": []
    },
    {
      "cell_type": "code",
      "metadata": {
        "id": "WA1F5AH50RZb",
        "colab_type": "code",
        "colab": {}
      },
      "source": [
        "### With two given lists [1,3,6,78,35,55] and \n",
        "### [12,24,35,24,88,120,155], write a program to make a list\n",
        "### whose elements are intersection of the above given lists."
      ],
      "execution_count": 0,
      "outputs": []
    },
    {
      "cell_type": "code",
      "metadata": {
        "id": "gic4gqj00RfA",
        "colab_type": "code",
        "colab": {}
      },
      "source": [
        "list1 = [1,3,6,78,35,55]\n",
        "list2 = [12,24,35,24,88,120,155]\n",
        "set1= set(list1)\n",
        "set2= set(list2)\n",
        "res = set.intersection(set1,set2)\n",
        "print(res)"
      ],
      "execution_count": 0,
      "outputs": []
    },
    {
      "cell_type": "code",
      "metadata": {
        "id": "eVlwlC5A0RXJ",
        "colab_type": "code",
        "colab": {}
      },
      "source": [
        ""
      ],
      "execution_count": 0,
      "outputs": []
    },
    {
      "cell_type": "code",
      "metadata": {
        "id": "6Hm5CeJw3s3_",
        "colab_type": "code",
        "colab": {}
      },
      "source": [
        "### With a given list [12,24,35,24,88,120,155,88,120,155], \n",
        "### write a program to print this list after removing all \n",
        "### duplicate values with original order reserved."
      ],
      "execution_count": 0,
      "outputs": []
    },
    {
      "cell_type": "code",
      "metadata": {
        "id": "WabrfWpa3s9p",
        "colab_type": "code",
        "colab": {}
      },
      "source": [
        "li = [12,24,35,24,88,120,155,88,120,155]\n",
        "for i in li :\n",
        "  if li.count(i) > 1 :\n",
        "    li.remove(i)\n",
        "\n",
        "print(li)"
      ],
      "execution_count": 0,
      "outputs": []
    },
    {
      "cell_type": "code",
      "metadata": {
        "id": "m3l2vksZ3tDe",
        "colab_type": "code",
        "colab": {}
      },
      "source": [
        ""
      ],
      "execution_count": 0,
      "outputs": []
    },
    {
      "cell_type": "code",
      "metadata": {
        "id": "hT0pj8-43tGb",
        "colab_type": "code",
        "colab": {}
      },
      "source": [
        "### Define a class Person and its two child classes: Male and Female.\n",
        "### All classes have a method \"getGender\" which can print\n",
        "###  \"Male\" for Male class and \"Female\" for Female class."
      ],
      "execution_count": 0,
      "outputs": []
    },
    {
      "cell_type": "code",
      "metadata": {
        "id": "gTZ1dm-T3tJx",
        "colab_type": "code",
        "outputId": "97de111f-0aee-49b3-dbeb-bdd8d73898a1",
        "colab": {
          "base_uri": "https://localhost:8080/",
          "height": 51
        }
      },
      "source": [
        "class Person(object):\n",
        "    def getGender( self ):\n",
        "        return \"Unknown\"\n",
        "\n",
        "class Male( Person ):\n",
        "    def getGender( self ):\n",
        "        return \"Male\"\n",
        "\n",
        "class Female( Person ):\n",
        "    def getGender( self ):\n",
        "        return \"Female\"\n",
        "\n",
        "aMale = Male()\n",
        "aFemale= Female()\n",
        "print (aMale.getGender())\n",
        "print (aFemale.getGender())"
      ],
      "execution_count": 0,
      "outputs": [
        {
          "output_type": "stream",
          "text": [
            "Male\n",
            "Female\n"
          ],
          "name": "stdout"
        }
      ]
    },
    {
      "cell_type": "code",
      "metadata": {
        "id": "vpPMlGM63tO5",
        "colab_type": "code",
        "colab": {}
      },
      "source": [
        ""
      ],
      "execution_count": 0,
      "outputs": []
    },
    {
      "cell_type": "code",
      "metadata": {
        "id": "W1VZdvmH3tSX",
        "colab_type": "code",
        "colab": {}
      },
      "source": [
        "### Please write a program which count and print \n",
        "### the numbers of each character in a string input by console."
      ],
      "execution_count": 0,
      "outputs": []
    },
    {
      "cell_type": "code",
      "metadata": {
        "id": "-60-xCn43tXf",
        "colab_type": "code",
        "colab": {}
      },
      "source": [
        "s = input()\n",
        "for letter in range(ord('a'),ord('z')+1):    # ord() gets the ascii value of a char\n",
        "    letter = chr(letter)                     # chr() gets the char of an ascii value\n",
        "    cnt = s.count(letter)\n",
        "    if cnt > 0:\n",
        "        print(\"{},{}\".format(letter,cnt))"
      ],
      "execution_count": 0,
      "outputs": []
    },
    {
      "cell_type": "code",
      "metadata": {
        "id": "0LLqZKgu3tbH",
        "colab_type": "code",
        "colab": {}
      },
      "source": [
        ""
      ],
      "execution_count": 0,
      "outputs": []
    },
    {
      "cell_type": "code",
      "metadata": {
        "id": "eD6jZOh23teq",
        "colab_type": "code",
        "colab": {}
      },
      "source": [
        "### Please write a program which accepts a string \n",
        "### from console and print it in reverse order."
      ],
      "execution_count": 0,
      "outputs": []
    },
    {
      "cell_type": "code",
      "metadata": {
        "id": "yhgscMs23tVy",
        "colab_type": "code",
        "colab": {}
      },
      "source": [
        "s = input()\n",
        "s = ''.join(reversed(s))\n",
        "print(s)"
      ],
      "execution_count": 0,
      "outputs": []
    },
    {
      "cell_type": "code",
      "metadata": {
        "id": "d1ejVp-a3tNL",
        "colab_type": "code",
        "colab": {}
      },
      "source": [
        ""
      ],
      "execution_count": 0,
      "outputs": []
    },
    {
      "cell_type": "code",
      "metadata": {
        "id": "sNcdkklF3tBO",
        "colab_type": "code",
        "colab": {}
      },
      "source": [
        "### Please write a program which accepts a string\n",
        "### from console and print the characters that have even indexes."
      ],
      "execution_count": 0,
      "outputs": []
    },
    {
      "cell_type": "code",
      "metadata": {
        "id": "6-fA9SRN3s79",
        "colab_type": "code",
        "colab": {}
      },
      "source": [
        "s = \"H1e2l3l4o5w6o7r8l9d\"\n",
        "ns =''\n",
        "for i in range(len(s)):\n",
        "    if i % 2 == 0:\n",
        "        ns+=s[i]\n",
        "print(ns)"
      ],
      "execution_count": 0,
      "outputs": []
    },
    {
      "cell_type": "code",
      "metadata": {
        "id": "ChcBoyNp5T5K",
        "colab_type": "code",
        "colab": {}
      },
      "source": [
        ""
      ],
      "execution_count": 0,
      "outputs": []
    },
    {
      "cell_type": "code",
      "metadata": {
        "id": "-vYLBV735T-Q",
        "colab_type": "code",
        "colab": {}
      },
      "source": [
        "### Please write a program which prints all permutations of [1,2,3]"
      ],
      "execution_count": 0,
      "outputs": []
    },
    {
      "cell_type": "code",
      "metadata": {
        "id": "MmPNp7g05UEJ",
        "colab_type": "code",
        "colab": {}
      },
      "source": [
        "import itertools\n",
        "print (list(itertools.permutations([1,2,3])))"
      ],
      "execution_count": 0,
      "outputs": []
    },
    {
      "cell_type": "code",
      "metadata": {
        "id": "PFJZm-Qc5UHU",
        "colab_type": "code",
        "colab": {}
      },
      "source": [
        ""
      ],
      "execution_count": 0,
      "outputs": []
    },
    {
      "cell_type": "code",
      "metadata": {
        "id": "ngzLQmbB5UCH",
        "colab_type": "code",
        "colab": {}
      },
      "source": [
        "### Write a program to solve a classic ancient Chinese puzzle: \n",
        "### We count 35 heads and 94 legs among the chickens and rabbits \n",
        "### in a farm. How many rabbits and how many chickens do we have?\n",
        "\n"
      ],
      "execution_count": 0,
      "outputs": []
    },
    {
      "cell_type": "code",
      "metadata": {
        "id": "YTG-zWEs5T8i",
        "colab_type": "code",
        "colab": {}
      },
      "source": [
        "def solve(numheads,numlegs):\n",
        "    ns='No solutions!'\n",
        "    for i in range(numheads+1):\n",
        "        j=numheads-i\n",
        "        if 2*i+4*j==numlegs:\n",
        "            return i,j\n",
        "    return ns,ns\n",
        "\n",
        "numheads=35\n",
        "numlegs=94\n",
        "solutions=solve(numheads,numlegs)\n",
        "print (solutions)"
      ],
      "execution_count": 0,
      "outputs": []
    },
    {
      "cell_type": "code",
      "metadata": {
        "id": "dh6JPS2J5sNS",
        "colab_type": "code",
        "colab": {}
      },
      "source": [
        ""
      ],
      "execution_count": 0,
      "outputs": []
    },
    {
      "cell_type": "code",
      "metadata": {
        "id": "Cr3AwAM95sV2",
        "colab_type": "code",
        "colab": {}
      },
      "source": [
        "### Given the participants' score sheet for your University Sports Day,\n",
        "### you are required to find the runner-up score. You are given scores.\n",
        "###  Store them in a list and find the score of the runner-up."
      ],
      "execution_count": 0,
      "outputs": []
    },
    {
      "cell_type": "code",
      "metadata": {
        "id": "6VgaOAai5sZQ",
        "colab_type": "code",
        "colab": {}
      },
      "source": [
        "'''\n",
        "Solution by: mishrasunny-coder\n",
        "'''\n",
        "num = int(input(\"Enter num: \"))\n",
        "L = []\n",
        "\n",
        "while True:\n",
        "    L.append(num)\n",
        "    num = int(input(\"Enter another: \"))\n",
        "    if num == 0:\n",
        "        break\n",
        "\n",
        "L1 = list(set(L[:]))\n",
        "L2 = sorted(L1)\n",
        "print(L2)\n",
        "\n",
        "print(f'The runner up is {L2[-2]}')"
      ],
      "execution_count": 0,
      "outputs": []
    },
    {
      "cell_type": "code",
      "metadata": {
        "id": "n8wLyX_N5sfC",
        "colab_type": "code",
        "colab": {}
      },
      "source": [
        ""
      ],
      "execution_count": 0,
      "outputs": []
    },
    {
      "cell_type": "code",
      "metadata": {
        "id": "K5uVqKQx5scp",
        "colab_type": "code",
        "colab": {}
      },
      "source": [
        "### You are given a string S and width W. \n",
        "### Your task is to wrap the string into a paragraph of width."
      ],
      "execution_count": 0,
      "outputs": []
    },
    {
      "cell_type": "code",
      "metadata": {
        "id": "R52YVr9P5sTZ",
        "colab_type": "code",
        "colab": {}
      },
      "source": [
        "\n",
        "'''Solution by: mishrasunny-coder\n",
        "'''\n",
        "import textwrap\n",
        "\n",
        "string = input()\n",
        "width = int(input())\n",
        "\n",
        "print(textwrap.fill(string,width))"
      ],
      "execution_count": 0,
      "outputs": []
    },
    {
      "cell_type": "code",
      "metadata": {
        "id": "knW4qXex5sRT",
        "colab_type": "code",
        "colab": {}
      },
      "source": [
        ""
      ],
      "execution_count": 0,
      "outputs": []
    },
    {
      "cell_type": "code",
      "metadata": {
        "id": "zVbwP5-P5sL-",
        "colab_type": "code",
        "colab": {}
      },
      "source": [
        "##You are given an integer, N. Your task is to print\n",
        "### an alphabet rangoli of size N. (Rangoli is a form of \n",
        "### Indian folk art based on creation of patterns.)"
      ],
      "execution_count": 0,
      "outputs": []
    },
    {
      "cell_type": "code",
      "metadata": {
        "id": "2tlO8-F25sKe",
        "colab_type": "code",
        "colab": {}
      },
      "source": [
        "import string\n",
        "def print_rangoli(size):\n",
        "    n = size\n",
        "    alph = string.ascii_lowercase\n",
        "    width = 4 * n - 3\n",
        "\n",
        "    ans = []\n",
        "    for i in range(n):\n",
        "        left = '-'.join(alph[n - i - 1:n])\n",
        "        mid = left[-1:0:-1] + left\n",
        "        final = mid.center(width, '-')\n",
        "        ans.append(final)\n",
        "\n",
        "    if len(ans) > 1:\n",
        "        for i in ans[n - 2::-1]:\n",
        "            ans.append(i)\n",
        "    ans = '\\n'.join(ans)\n",
        "    print(ans)\n",
        "\n",
        "\n",
        "if __name__ == '__main__':\n",
        "    n = int(input())\n",
        "    print_rangoli(n)"
      ],
      "execution_count": 0,
      "outputs": []
    },
    {
      "cell_type": "code",
      "metadata": {
        "id": "grfyv38_6k7m",
        "colab_type": "code",
        "colab": {}
      },
      "source": [
        ""
      ],
      "execution_count": 0,
      "outputs": []
    },
    {
      "cell_type": "code",
      "metadata": {
        "id": "pZJGZlrx6k_K",
        "colab_type": "code",
        "colab": {}
      },
      "source": [
        "### You are given a date. Your task is to find what the day is on that day\n",
        "# 08 05 2015"
      ],
      "execution_count": 0,
      "outputs": []
    },
    {
      "cell_type": "code",
      "metadata": {
        "id": "jWVnFF1s6lCV",
        "colab_type": "code",
        "colab": {}
      },
      "source": [
        "import calendar\n",
        "\n",
        "month, day, year = map(int, input().split())\n",
        "\n",
        "dayId = calendar.weekday(year, month, day)\n",
        "print(calendar.day_name[dayId].upper())"
      ],
      "execution_count": 0,
      "outputs": []
    },
    {
      "cell_type": "code",
      "metadata": {
        "id": "fzC-OjLr6zti",
        "colab_type": "code",
        "colab": {}
      },
      "source": [
        ""
      ],
      "execution_count": 0,
      "outputs": []
    },
    {
      "cell_type": "code",
      "metadata": {
        "id": "8rPAwji66zwy",
        "colab_type": "code",
        "colab": {}
      },
      "source": [
        "### Given 2 sets of integers, M and N, print their symmetric difference \n",
        "### in ascending order. The term symmetric difference indicates those\n",
        "### values that exist in either M or N but do not exist in both.\n",
        "\n",
        "#4\n",
        "##2 4 5 9\n",
        "#4\n",
        "##2 4 11 12"
      ],
      "execution_count": 0,
      "outputs": []
    },
    {
      "cell_type": "code",
      "metadata": {
        "id": "AIF9z3KG6z2G",
        "colab_type": "code",
        "colab": {}
      },
      "source": [
        "if __name__ == '__main__':\n",
        "    n = int(input())\n",
        "    set1 = set(map(int,input().split()))\n",
        "\n",
        "    m = int(input())\n",
        "    set2 = set(map(int, input().split()))\n",
        "\n",
        "    ans = list(set1 ^ set2)\n",
        "    ans.sort()\n",
        "    for i in ans:\n",
        "        print(i)"
      ],
      "execution_count": 0,
      "outputs": []
    },
    {
      "cell_type": "code",
      "metadata": {
        "id": "p6HR5O3q60A3",
        "colab_type": "code",
        "colab": {}
      },
      "source": [
        ""
      ],
      "execution_count": 0,
      "outputs": []
    },
    {
      "cell_type": "code",
      "metadata": {
        "id": "NiT7mceF60F5",
        "colab_type": "code",
        "colab": {}
      },
      "source": [
        "### You are given words. Some words may repeat. For each word, \n",
        "### output its number of occurrences. The output order should correspond \n",
        "### with the input order of appearance of the word.\n",
        "### See the sample input/output for clarification.\n",
        "\n",
        "#If the following string is given as input to the program:\n",
        "\n",
        "#4\n",
        "#bcdef\n",
        "#abcdefg\n",
        "#bcde\n",
        "#bcdef\n",
        "\n",
        "\n",
        "#Then, the output of the program should be:\n",
        "\n",
        "#3\n",
        "#2 1 1"
      ],
      "execution_count": 0,
      "outputs": []
    },
    {
      "cell_type": "code",
      "metadata": {
        "id": "ewyk9RaS60J5",
        "colab_type": "code",
        "colab": {}
      },
      "source": [
        "n = int(input())\n",
        "\n",
        "word_list = []\n",
        "word_dict = {}\n",
        "\n",
        "for i in range(n):\n",
        "    word = input()\n",
        "    if word not in word_dict:\n",
        "        word_list.append(word)\n",
        "    word_dict[word] = word_dict.get(word, 0) + 1\n",
        "\n",
        "print(len(word_list))\n",
        "for word in word_list:\n",
        "    print(word_dict[word], end=' ')"
      ],
      "execution_count": 0,
      "outputs": []
    },
    {
      "cell_type": "code",
      "metadata": {
        "id": "oU5e8e8D60Pp",
        "colab_type": "code",
        "colab": {}
      },
      "source": [
        ""
      ],
      "execution_count": 0,
      "outputs": []
    },
    {
      "cell_type": "code",
      "metadata": {
        "id": "1UsYHwml8KvN",
        "colab_type": "code",
        "colab": {}
      },
      "source": [
        "### You are given a string.Your task is to count the frequency of letters of the\n",
        "### string and print the letters in descending order of frequency.\n",
        "\n",
        "### If the following string is given as input to the program:\n",
        "\n",
        "### aabbbccde\n",
        "### Then, the output of the program should be:\n",
        "\n",
        "#b 3\n",
        "#a 2\n",
        "#c 2\n",
        "#d 1\n",
        "#e 1\n",
        "\n"
      ],
      "execution_count": 0,
      "outputs": []
    },
    {
      "cell_type": "code",
      "metadata": {
        "id": "iv5yr9Px8Kza",
        "colab_type": "code",
        "colab": {}
      },
      "source": [
        "'''Solution by: StartZer0'''\n",
        "\n",
        "s = list(input())\n",
        "\n",
        "dict_count_ = {k:s.count(k) for k in s}\n",
        "list_of_tuples = [(k,v) for k,v in dict_count_.items()]\n",
        "list_of_tuples.sort(key = lambda x: x[1], reverse = True)\n",
        "\n",
        "for item in list_of_tuples:\n",
        "  print(item[0], item[1])"
      ],
      "execution_count": 0,
      "outputs": []
    },
    {
      "cell_type": "code",
      "metadata": {
        "id": "lYY5Cg2y8K4x",
        "colab_type": "code",
        "colab": {}
      },
      "source": [
        ""
      ],
      "execution_count": 0,
      "outputs": []
    },
    {
      "cell_type": "code",
      "metadata": {
        "id": "3I3kFVUS60TG",
        "colab_type": "code",
        "colab": {}
      },
      "source": [
        "### Write a Python program that accepts a string and \n",
        "### calculate the number of digits and letters.\n",
        "# Hello321Bye360"
      ],
      "execution_count": 0,
      "outputs": []
    },
    {
      "cell_type": "code",
      "metadata": {
        "id": "W9aqpvdc60D7",
        "colab_type": "code",
        "outputId": "c7691d13-7d70-4db4-890c-0504ce0cf6db",
        "colab": {
          "base_uri": "https://localhost:8080/",
          "height": 68
        }
      },
      "source": [
        "word = input()\n",
        "digit,letter = 0,0\n",
        "for char in word:\n",
        "    digit += int(char.isdigit())\n",
        "    letter += int(char.isalpha())\n",
        "\n",
        "print('Digit -',digit)\n",
        "print('Letter -',letter)"
      ],
      "execution_count": 0,
      "outputs": [
        {
          "output_type": "stream",
          "text": [
            "Hello321Bye360\n",
            "Digit - 6\n",
            "Letter - 8\n"
          ],
          "name": "stdout"
        }
      ]
    },
    {
      "cell_type": "code",
      "metadata": {
        "id": "5Nl__p2n6z_f",
        "colab_type": "code",
        "colab": {}
      },
      "source": [
        ""
      ],
      "execution_count": 0,
      "outputs": []
    },
    {
      "cell_type": "code",
      "metadata": {
        "id": "Yb2xCkkO6z8D",
        "colab_type": "code",
        "colab": {}
      },
      "source": [
        "### Given a number N.Find Sum of 1 to N Using Recursion"
      ],
      "execution_count": 0,
      "outputs": []
    },
    {
      "cell_type": "code",
      "metadata": {
        "id": "WG7LB95j6zz6",
        "colab_type": "code",
        "colab": {}
      },
      "source": [
        "def rec(n):\n",
        "    if n <= 0:\n",
        "        return n\n",
        "    return rec(n-1) + n\n",
        "\n",
        "\n",
        "n = int(input())\n",
        "sum = rec(n)\n",
        "print(sum)"
      ],
      "execution_count": 0,
      "outputs": []
    },
    {
      "cell_type": "code",
      "metadata": {
        "id": "FiQ45Xf25sFj",
        "colab_type": "code",
        "colab": {}
      },
      "source": [
        ""
      ],
      "execution_count": 0,
      "outputs": []
    }
  ]
}