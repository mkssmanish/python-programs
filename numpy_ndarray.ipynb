{
  "nbformat": 4,
  "nbformat_minor": 0,
  "metadata": {
    "colab": {
      "name": "numpy_ndarray.ipynb",
      "provenance": [],
      "authorship_tag": "ABX9TyMaKbv93RjM/rYGzozpW92y",
      "include_colab_link": true
    },
    "kernelspec": {
      "name": "python3",
      "display_name": "Python 3"
    }
  },
  "cells": [
    {
      "cell_type": "markdown",
      "metadata": {
        "id": "view-in-github",
        "colab_type": "text"
      },
      "source": [
        "<a href=\"https://colab.research.google.com/github/mkssmanish/python-programs/blob/master/numpy_ndarray.ipynb\" target=\"_parent\"><img src=\"https://colab.research.google.com/assets/colab-badge.svg\" alt=\"Open In Colab\"/></a>"
      ]
    },
    {
      "cell_type": "code",
      "metadata": {
        "id": "c81tWfMCN2Pi",
        "colab_type": "code",
        "colab": {}
      },
      "source": [
        "### In Numpy, number of dimensions of the array is called rank\n",
        "\n",
        "### A tuple of integers giving the size of the array along \n",
        "### each dimension is known as shape of the array."
      ],
      "execution_count": 0,
      "outputs": []
    },
    {
      "cell_type": "code",
      "metadata": {
        "id": "-rwoztD7PAa_",
        "colab_type": "code",
        "colab": {}
      },
      "source": [
        "import numpy as np "
      ],
      "execution_count": 0,
      "outputs": []
    },
    {
      "cell_type": "code",
      "metadata": {
        "id": "if3H2vwMPAd2",
        "colab_type": "code",
        "colab": {}
      },
      "source": [
        "arr = np.array([[1,2,3],[4,5,6]])\n",
        "\n",
        "# find out class of arr\n",
        "print(type(arr))\n",
        "\n",
        "# find out dimension of arr\n",
        "print(arr.ndim)\n",
        "\n",
        "#find out shape of arr\n",
        "print(arr.shape)\n",
        "\n",
        "#find out size of arr \n",
        "print(arr.size)\n",
        "\n",
        "#find out element data type \n",
        "print(arr.dtype)"
      ],
      "execution_count": 0,
      "outputs": []
    },
    {
      "cell_type": "code",
      "metadata": {
        "id": "b2Kq_Fq5PAg3",
        "colab_type": "code",
        "colab": {}
      },
      "source": [
        ""
      ],
      "execution_count": 0,
      "outputs": []
    },
    {
      "cell_type": "code",
      "metadata": {
        "id": "MSvvpEicPAjz",
        "colab_type": "code",
        "colab": {}
      },
      "source": [
        "### Array creation ######\n",
        "\n",
        "# array from a regular Python list or tuple using the array\n",
        "# For example: np.zeros, np.ones, np.full, np.empty, etc.\n",
        "# arange: returns evenly spaced values within a given interval. step size is specified.\n",
        "# Reshaping array: We can use reshape method to reshape an array\n",
        "\n",
        "\n",
        "#Flatten array: We can use flatten method to get a \n",
        "#... copy of array collapsed into one dimension. \n",
        "#... It accepts order argument. Default value is ‘C’ \n",
        "#... (for row-major order). Use ‘F’ for column major order"
      ],
      "execution_count": 0,
      "outputs": []
    },
    {
      "cell_type": "code",
      "metadata": {
        "id": "zX0lSGoWZn3t",
        "colab_type": "code",
        "colab": {}
      },
      "source": [
        ""
      ],
      "execution_count": 0,
      "outputs": []
    },
    {
      "cell_type": "code",
      "metadata": {
        "id": "JESiOIliZn6M",
        "colab_type": "code",
        "colab": {}
      },
      "source": [
        "# creating an array from list with type float\n",
        "arr_list = np.array([[1,2,3], [4,5,6]] , dtype = float)\n",
        "print(arr_list)\n",
        "\n",
        "print()\n",
        "# creating an array from tuple with type float\n",
        "arr_tuple = np.array(((1,2,3), (4,5,6)), dtype = float)\n",
        "print(arr_tuple)"
      ],
      "execution_count": 0,
      "outputs": []
    },
    {
      "cell_type": "code",
      "metadata": {
        "id": "FQL9NtFoZn9I",
        "colab_type": "code",
        "colab": {}
      },
      "source": [
        "# creating an 3*4 array with all zeroes value\n",
        "arr_zero = np.zeros((3,4))\n",
        "print(arr_zero)"
      ],
      "execution_count": 0,
      "outputs": []
    },
    {
      "cell_type": "code",
      "metadata": {
        "id": "PiXi00pzZn_1",
        "colab_type": "code",
        "colab": {}
      },
      "source": [
        "# Create a constant value array of complex type\n",
        "\n",
        "# dtype can be int float complex \"int64\" \"float32\"\n",
        "# You have to use \"\"  if it combination of alphabet & digit eg int64\n",
        "# or without it if only alphabet eg int float complex\n",
        "\n",
        "arr_constant = np.full((3,3),6, dtype = \"complex\")\n",
        "arr_constant"
      ],
      "execution_count": 0,
      "outputs": []
    },
    {
      "cell_type": "code",
      "metadata": {
        "id": "MJyn8lrEZoCu",
        "colab_type": "code",
        "colab": {}
      },
      "source": [
        "# Python program to demonstrate\n",
        "# indexing in numpy\n",
        "\n",
        "arr = np.array([[-1, 2, 0, 4],\n",
        "                [4, -0.5, 6, 0],\n",
        "                [2.6, 0, 7, 8],\n",
        "                [3, -7, 4, 2.0]])\n",
        "\n",
        "\n",
        "# Slicing array\n",
        "temp = arr[:2,   :3:1]\n",
        "print (\"Array with first 2 rows and 3 columns \\n\" \\\n",
        "                    \"columns(0 ,1 ,2  in alternate !!!):\\n\", temp)\n",
        "\n",
        "\n",
        "# Row slicing \n",
        "# :2 => :2:  => 0:2:1\n",
        "# :2\n",
        "# Starting row 0 (bcz default is 0)\n",
        "# Ending row 2 (default is max row )\n",
        "# alternate row is 1 (bcz default is 1)\n",
        "\n",
        "\n",
        "# Column   slicing \n",
        "# :3:1\n",
        "# starting column 0 (bcz default is also 0)\n",
        "# ending column 3 (default is max column)\n",
        "# alternate column 1 (default is also 1)"
      ],
      "execution_count": 0,
      "outputs": []
    },
    {
      "cell_type": "code",
      "metadata": {
        "id": "FyB8_dU_ZoFj",
        "colab_type": "code",
        "colab": {}
      },
      "source": [
        ""
      ],
      "execution_count": 0,
      "outputs": []
    },
    {
      "cell_type": "code",
      "metadata": {
        "id": "3D2CNpTZZoIb",
        "colab_type": "code",
        "colab": {}
      },
      "source": [
        "\n",
        "# Integer array indexing example\n",
        "temp = arr[[0,1,2,3],[3,2,1,0]]\n",
        "print (\"\\nElements at indices (0, 3), (1, 2), (2, 1),\" \\\n",
        "                                    \"(3, 0):\\n\", temp)"
      ],
      "execution_count": 0,
      "outputs": []
    },
    {
      "cell_type": "code",
      "metadata": {
        "id": "NtlAi-FCZoL1",
        "colab_type": "code",
        "colab": {}
      },
      "source": [
        "# boolean array indexing example\n",
        "cond = arr > 2 # cond is a boolean array\n",
        "temp = arr[cond]\n",
        "# same can be written in following style \n",
        "#temp = arr[arr > 2 ]\n",
        "print (\"\\nElements greater than 2:\\n\", temp)\n"
      ],
      "execution_count": 0,
      "outputs": []
    },
    {
      "cell_type": "code",
      "metadata": {
        "id": "0bV7bdJSPAnO",
        "colab_type": "code",
        "colab": {}
      },
      "source": [
        "print(arr, \"\\n\\n\")\n",
        "# a, b, c \n",
        "# comulative sum\n",
        "# a , a+b, (a+b) + c\n",
        "# axis 0 means column wise \n",
        "# axis 1 means row wise \n",
        "# arr.cumsum() without parameter -> flatten array\n",
        "print (\"Cumulative sum along each row:\\n\",\n",
        "                        arr.cumsum(axis = 1))"
      ],
      "execution_count": 0,
      "outputs": []
    },
    {
      "cell_type": "code",
      "metadata": {
        "id": "CGE-p7Zai6rH",
        "colab_type": "code",
        "colab": {}
      },
      "source": [
        "print(\"largest element in array  \", arr.max())"
      ],
      "execution_count": 0,
      "outputs": []
    },
    {
      "cell_type": "code",
      "metadata": {
        "id": "30rMkCPxkC_7",
        "colab_type": "code",
        "colab": {}
      },
      "source": [
        "print(\"largest element in array row wise   \", arr.max(axis = 1))"
      ],
      "execution_count": 0,
      "outputs": []
    },
    {
      "cell_type": "code",
      "metadata": {
        "id": "T348A4krkI9E",
        "colab_type": "code",
        "colab": {}
      },
      "source": [
        "print(\"largest element in array in column wise   \", arr.max(axis = 0))"
      ],
      "execution_count": 0,
      "outputs": []
    },
    {
      "cell_type": "code",
      "metadata": {
        "id": "GVWlqbbSjHbf",
        "colab_type": "code",
        "colab": {}
      },
      "source": [
        "print(\"smallest element in array  \", arr.min())"
      ],
      "execution_count": 0,
      "outputs": []
    },
    {
      "cell_type": "code",
      "metadata": {
        "id": "UYqwKwhSk8Cw",
        "colab_type": "code",
        "colab": {}
      },
      "source": [
        ""
      ],
      "execution_count": 0,
      "outputs": []
    },
    {
      "cell_type": "code",
      "metadata": {
        "id": "9QlxpOg3k8MC",
        "colab_type": "code",
        "colab": {}
      },
      "source": [
        "# create an array of sine values\n",
        "print(\"value of pi using np.pi   :   \", np.pi)\n",
        "a = np.array([0, np.pi/2, np.pi])\n",
        "print (\"\\nSine values of array elements:\", np.sin(a))"
      ],
      "execution_count": 0,
      "outputs": []
    },
    {
      "cell_type": "code",
      "metadata": {
        "id": "dH-jZV4Ek8Po",
        "colab_type": "code",
        "colab": {}
      },
      "source": [
        ""
      ],
      "execution_count": 0,
      "outputs": []
    },
    {
      "cell_type": "code",
      "metadata": {
        "id": "jrHb5nBhk8Tl",
        "colab_type": "code",
        "colab": {
          "base_uri": "https://localhost:8080/",
          "height": 34
        },
        "outputId": "e3303b72-93a7-4ae1-fdbe-69810fff01ed"
      },
      "source": [
        "# exponential values\n",
        "# e = 2.71828183\n",
        "# e to the power 0 = 1 \n",
        "\n",
        "\n",
        "a = np.array([0,1,2,3])\n",
        "print (\"Exponent of array elements:\", np.exp(a))"
      ],
      "execution_count": 70,
      "outputs": [
        {
          "output_type": "stream",
          "text": [
            "Exponent of array elements: [ 1.          2.71828183  7.3890561  20.08553692]\n"
          ],
          "name": "stdout"
        }
      ]
    },
    {
      "cell_type": "code",
      "metadata": {
        "id": "zNALUk4KmUe7",
        "colab_type": "code",
        "colab": {
          "base_uri": "https://localhost:8080/",
          "height": 34
        },
        "outputId": "9a66bb43-4352-4dec-e837-331914dc4554"
      },
      "source": [
        "# Squre root \n",
        "a = np.array([1,4,9,16,25])\n",
        "b = np.sqrt(a)\n",
        "print(\"Squre of a is :  \" ,b)"
      ],
      "execution_count": 69,
      "outputs": [
        {
          "output_type": "stream",
          "text": [
            "Squre of a is :   [1. 2. 3. 4. 5.]\n"
          ],
          "name": "stdout"
        }
      ]
    },
    {
      "cell_type": "code",
      "metadata": {
        "id": "Y-suz3lQmUp9",
        "colab_type": "code",
        "colab": {}
      },
      "source": [
        ""
      ],
      "execution_count": 0,
      "outputs": []
    }
  ]
}