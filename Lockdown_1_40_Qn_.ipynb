{
  "nbformat": 4,
  "nbformat_minor": 0,
  "metadata": {
    "colab": {
      "name": "Lockdown 1 40 Qn  .ipynb",
      "provenance": [],
      "collapsed_sections": []
    },
    "kernelspec": {
      "name": "python3",
      "display_name": "Python 3"
    }
  },
  "cells": [
    {
      "cell_type": "code",
      "metadata": {
        "id": "hQh8QqptRjNu",
        "colab_type": "code",
        "colab": {}
      },
      "source": [
        "#######    Square of a number   ################\n",
        "def square(n) :\n",
        "  return n ** 2\n",
        "\n",
        "print(square(int(input(\"Enter number  :  \"))))"
      ],
      "execution_count": 0,
      "outputs": []
    },
    {
      "cell_type": "code",
      "metadata": {
        "id": "rRFKbwBbdOzf",
        "colab_type": "code",
        "colab": {}
      },
      "source": [
        ""
      ],
      "execution_count": 0,
      "outputs": []
    },
    {
      "cell_type": "code",
      "metadata": {
        "id": "OvBIvYCXSKbn",
        "colab_type": "code",
        "colab": {}
      },
      "source": [
        "###   Get words splitted by space & print the word in sorted with occurance of each #####"
      ],
      "execution_count": 0,
      "outputs": []
    },
    {
      "cell_type": "code",
      "metadata": {
        "id": "xTE7o7sSSfry",
        "colab_type": "code",
        "colab": {}
      },
      "source": [
        "## Method 1   Counter give items & freq like dictionary \n",
        "\n",
        "from collections import Counter \n",
        "\n",
        "ss =  sorted (Counter(input(\"Enter words sep by space \").split() ) .items())\n",
        "                  # Counter split like dic with item & freq  0 items & 1 as values\n",
        "\n",
        "for i in ss :\n",
        "  print(i[0], \"   :   \", i[1])"
      ],
      "execution_count": 0,
      "outputs": []
    },
    {
      "cell_type": "code",
      "metadata": {
        "id": "_lm-Fdm9Uyk6",
        "colab_type": "code",
        "colab": {}
      },
      "source": [
        "## Method 2    using pprint \n",
        "\n",
        "from pprint import pprint\n",
        "\n",
        "ss = input(\"Enter words sep by space :  \").split()\n",
        "\n",
        "pprint({i : ss.count(i)   for i in ss})\n",
        "    "
      ],
      "execution_count": 0,
      "outputs": []
    },
    {
      "cell_type": "code",
      "metadata": {
        "id": "EXVAYib8dR5L",
        "colab_type": "code",
        "colab": {}
      },
      "source": [
        ""
      ],
      "execution_count": 0,
      "outputs": []
    },
    {
      "cell_type": "code",
      "metadata": {
        "id": "xn6x4SJIY5mL",
        "colab_type": "code",
        "colab": {}
      },
      "source": [
        "###  how _ _ doc _ _ function work   \n",
        "\n",
        "print(str.__doc__)\n",
        "print(\"\\n\\n\")\n",
        "\n",
        "\n",
        "print(\"My Own doc function   \\n\\n\")\n",
        "\n",
        "def pow_doc(n):\n",
        "     ''' \n",
        "     Power function multiply with same number \n",
        "     and return the value\n",
        "     if you use pow_doc. _ _ doc _ _  then you will get this message \n",
        "     ''' \n",
        "     return n**2 \n",
        "\n",
        "print(pow_doc(5))\n",
        "print()\n",
        "print(pow_doc.__doc__)\n"
      ],
      "execution_count": 0,
      "outputs": []
    },
    {
      "cell_type": "code",
      "metadata": {
        "id": "WkQR1Qo7dUfe",
        "colab_type": "code",
        "colab": {}
      },
      "source": [
        ""
      ],
      "execution_count": 0,
      "outputs": []
    },
    {
      "cell_type": "code",
      "metadata": {
        "id": "uDmCMRmNbfWb",
        "colab_type": "code",
        "colab": {}
      },
      "source": [
        "#### Define a class, which have a class parameter & have a same instance parameter.\n",
        "\n",
        "#### Define an instance parameter, need add it in __init__ method.\n",
        "#### You can init an object with construct parameter or set the value later\n",
        "\n",
        "\n",
        "\n",
        "class Car :\n",
        "  name = \"car\"\n",
        "\n",
        "  def __init__ (self, name = None):\n",
        "    self.name = name \n",
        "\n",
        "\n",
        "honda = Car(\"Honda\")\n",
        "\n",
        "print(\"%s name is  %s  \" %(Car.name , honda.name ))\n",
        "\n",
        "toyota =  Car()    # till now default name is 'car'\n",
        "\n",
        "toyota.name =  \"Toyota\"    # name changed \n",
        "\n",
        "print(\"%s name is   %s   \" %(Car.name, toyota.name) )\n",
        "\n",
        "\n"
      ],
      "execution_count": 0,
      "outputs": []
    },
    {
      "cell_type": "code",
      "metadata": {
        "id": "m9Xn67fcio-c",
        "colab_type": "code",
        "colab": {}
      },
      "source": [
        ""
      ],
      "execution_count": 0,
      "outputs": []
    },
    {
      "cell_type": "code",
      "metadata": {
        "id": "QprA4N-6ipVX",
        "colab_type": "code",
        "colab": {}
      },
      "source": [
        "####   Define a class with a generator which can iterate the numbers, \n",
        "####   which are divisible by 7, between a given range 0 and n.\n",
        "\n",
        "class Anything :\n",
        "\n",
        "  def div_by_7 (self, n ):\n",
        "\n",
        "    for number in range(n+1):\n",
        "      if number % 7 == 0:\n",
        "        yield number\n",
        "\n",
        "\n",
        "anything =  Anything()\n",
        "\n",
        "generator = anything.div_by_7(int(input(\"Enter integer number -->  \")))\n",
        "\n",
        "print(generator )  #  See the difference ,  it is not list by default \n",
        "\n",
        "for i in generator :\n",
        "  print(i)          # But You can iterate \n",
        "\n",
        "\n",
        "\n",
        "# When u converted it into list by using -->  list()   function \n",
        "generator =list(anything.div_by_7(int(input(\"Enter integer number -->  \"))))\n",
        "print(generator )\n",
        "\n"
      ],
      "execution_count": 0,
      "outputs": []
    },
    {
      "cell_type": "code",
      "metadata": {
        "id": "9QlrTRlLnYpO",
        "colab_type": "code",
        "colab": {}
      },
      "source": [
        ""
      ],
      "execution_count": 0,
      "outputs": []
    },
    {
      "cell_type": "code",
      "metadata": {
        "id": "WKvLcK-ZnZmE",
        "colab_type": "code",
        "colab": {}
      },
      "source": [
        "### A robot moves in a plane starting from the original point (0,0).\n",
        "### The robot can move toward UP, DOWN, LEFT and RIGHT with a given steps.\n",
        "### The trace of robot movement is shown as the following:\n",
        "#UP 5\n",
        "#DOWN 3\n",
        "#LEFT 3\n",
        "#RIGHT 2\n",
        "\n",
        "# Then, the output of the program should be: 2 \n",
        "\n",
        "import math \n",
        "\n",
        "x,y = 0,0 \n",
        "while True :\n",
        "  move = input(\"Enter Dir and steps sep by space  : \").split()\n",
        "  if not move :\n",
        "    break\n",
        "\n",
        "  if move[0] == \"UP\" :\n",
        "    x += int(move[1])\n",
        "  if move[0] == \"DOWN\" :\n",
        "    x -= int(move[1])\n",
        "\n",
        "\n",
        "  if move[0] == \"LEFT\":\n",
        "    y -= int(move[1])\n",
        "  if move[0] == \"Down\":\n",
        "    y += int(move[1])\n",
        "\n",
        "\n",
        "print(\"Robot Travelled  \", round(math.sqrt(x ** 2 + y **2)))\n"
      ],
      "execution_count": 0,
      "outputs": []
    },
    {
      "cell_type": "code",
      "metadata": {
        "id": "hcPGjJnJuPFR",
        "colab_type": "code",
        "colab": {}
      },
      "source": [
        ""
      ],
      "execution_count": 0,
      "outputs": []
    },
    {
      "cell_type": "code",
      "metadata": {
        "id": "F-9vXjQ3uP9q",
        "colab_type": "code",
        "colab": {}
      },
      "source": [
        "### A website requires the users to input username and password to register.\n",
        "###  Write a program to check the validity of password input by users."
      ],
      "execution_count": 0,
      "outputs": []
    },
    {
      "cell_type": "code",
      "metadata": {
        "id": "GMbbbqfFudRG",
        "colab_type": "code",
        "colab": {}
      },
      "source": [
        "###Following are the criteria for checking the password:\n",
        "\n",
        "#At least 1 letter between [a-z]\n",
        "#At least 1 number between [0-9]\n",
        "#At least 1 letter between [A-Z]\n",
        "#At least 1 character from [$#@]\n",
        "#Minimum length of transaction password: 6\n",
        "#Maximum length of transaction password: 12\n",
        "#Your program should accept a sequence of comma separated passwords and\n",
        "#will check them according to the above criteria. \n",
        "#Passwords that match the criteria are to be printed, each separated by a comma."
      ],
      "execution_count": 0,
      "outputs": []
    },
    {
      "cell_type": "code",
      "metadata": {
        "id": "MZSm4LZYurln",
        "colab_type": "code",
        "colab": {}
      },
      "source": [
        "### If the following passwords are given as input to the program:\n",
        "# ABd1234@1,a F1#,2w3E*,2We3345\n",
        "\n",
        "### Then, the output of the program should be:\n",
        "# ABd1234@1"
      ],
      "execution_count": 0,
      "outputs": []
    },
    {
      "cell_type": "code",
      "metadata": {
        "id": "qEaPlGrNvEUq",
        "colab_type": "code",
        "colab": {}
      },
      "source": [
        "import re \n",
        "\n",
        "s = input(\"Enter pass sep by  ','  :   \").split(\",\")\n",
        "\n",
        "lst = []\n",
        "\n",
        "for i in s :\n",
        "  cnt = 0\n",
        "  cnt += (6<= len(i) and len(i) <= 12 )\n",
        "  cnt += bool(re.search(\"[a-z]\",i))     # here re module includes a function re.search() which returns the object information\n",
        "  cnt += bool(re.search(\"[A-Z]\",i))  # of where the pattern string i is matched with any of the [a-z]/[A-z]/[0=9]/[@#$] characters\n",
        "  cnt += bool(re.search(\"[1-9]\",i))     # if not a single match found then returns NONE which converts to False in boolean\n",
        "  cnt += bool(re.search(\"[@ # $]\",i))      # expression otherwise True if found any.\n",
        "\n",
        "  if cnt == 5 :\n",
        "    lst.append(i)\n",
        "    \n",
        "\n",
        "print(lst)\n",
        "\n",
        "\n",
        "\n",
        "\n"
      ],
      "execution_count": 0,
      "outputs": []
    },
    {
      "cell_type": "code",
      "metadata": {
        "id": "hPUHXKRszuRw",
        "colab_type": "code",
        "colab": {}
      },
      "source": [
        ""
      ],
      "execution_count": 0,
      "outputs": []
    },
    {
      "cell_type": "code",
      "metadata": {
        "id": "jKzXVs2jzuc0",
        "colab_type": "code",
        "colab": {}
      },
      "source": [
        "### You are required to write a program to sort the (name, age, score) \n",
        "### tuples by ascending order where name is string, age and score are numbers.\n",
        "### The tuples are input by console. The sort criteria is:\n",
        "\n",
        "### 1: Sort based on name\n",
        "### 2: Then sort based on age\n",
        "### 3: Then sort by score\n",
        "\n",
        "\n",
        "\n",
        "#If the following tuples are given as input to the program:\n",
        "#Tom,19,80\n",
        "#John,20,90\n",
        "#Jony,17,91\n",
        "#Jony,17,93\n",
        "#Json,21,85\n",
        "\n",
        "###Then, the output of the program should be:\n",
        "\n",
        "### [('John', '20', '90'), ('Jony', '17', '91'), ('Jony', '17', '93'), ('Json', '21', '85'), ('Tom', '19', '80')]\n",
        "\n"
      ],
      "execution_count": 0,
      "outputs": []
    },
    {
      "cell_type": "code",
      "metadata": {
        "id": "722iRHAI0HQF",
        "colab_type": "code",
        "colab": {}
      },
      "source": [
        "lst = []\n",
        "while True :\n",
        "  s = input(\"Enter name,age,marks --> \").split(\",\")\n",
        "  if not s[0]:\n",
        "    break\n",
        "  lst.append(tuple(s))\n",
        "\n",
        "lst.sort(key = lambda x : (x[0],x[1],x[2]))\n",
        "## here key is defined by lambda and the data is sorted by element priority 0>1>2 in accending order\n",
        "\n",
        "print(lst)"
      ],
      "execution_count": 0,
      "outputs": []
    },
    {
      "cell_type": "code",
      "metadata": {
        "id": "2tf1SPoj-Rci",
        "colab_type": "code",
        "colab": {}
      },
      "source": [
        "### Use a list comprehension to square each odd number in a list. \n",
        "### The list is input by a sequence of comma-separated numbers. \n",
        "### Suppose the following input is supplied to the program:"
      ],
      "execution_count": 0,
      "outputs": []
    },
    {
      "cell_type": "code",
      "metadata": {
        "id": "ilKBkvyG-R2t",
        "colab_type": "code",
        "colab": {}
      },
      "source": [
        "lst = list(map(int,input(\"Enter int num sep by ','  \").split(\",\")))\n",
        "\n",
        "lst = [i**2 for i in lst if i%2 !=0 ]\n",
        "\n",
        "print(lst)\n"
      ],
      "execution_count": 0,
      "outputs": []
    },
    {
      "cell_type": "code",
      "metadata": {
        "id": "ETf_9uk9_O5g",
        "colab_type": "code",
        "colab": {}
      },
      "source": [
        ""
      ],
      "execution_count": 0,
      "outputs": []
    },
    {
      "cell_type": "code",
      "metadata": {
        "id": "H6JLnGVl_O8s",
        "colab_type": "code",
        "colab": {}
      },
      "source": [
        "### Write a program that computes the net amount of a bank account\n",
        "### based a transaction log from console input. \n",
        "### The transaction log format is shown as following:\n",
        "\n",
        "### D means deposit while W means withdrawal.\n",
        "### D 100\n",
        "### W 200\n",
        "### D 500\n",
        "### then o/p should be 400"
      ],
      "execution_count": 0,
      "outputs": []
    },
    {
      "cell_type": "code",
      "metadata": {
        "id": "oyuyKlIq_PBn",
        "colab_type": "code",
        "colab": {}
      },
      "source": [
        "D,W = 0,0\n",
        "total = 0\n",
        "while True :\n",
        "  s = input(\"Enter D or W followed by money (Integer)  : \").split()\n",
        "  if not s :\n",
        "    break\n",
        "  if s[0] == \"D\":\n",
        "    total += int(s[1])\n",
        "  if s[0] == \"W\":\n",
        "    total -= int(s[1])\n",
        "\n",
        "\n",
        "print(total)"
      ],
      "execution_count": 0,
      "outputs": []
    },
    {
      "cell_type": "code",
      "metadata": {
        "id": "6jvkv4WsBDR9",
        "colab_type": "code",
        "colab": {}
      },
      "source": [
        ""
      ],
      "execution_count": 0,
      "outputs": []
    },
    {
      "cell_type": "code",
      "metadata": {
        "id": "EzW8uLlX-SFF",
        "colab_type": "code",
        "colab": {}
      },
      "source": [
        "### Write a program that accepts a sentence and calculate \n",
        "### the number of upper case letters and lower case letters."
      ],
      "execution_count": 0,
      "outputs": []
    },
    {
      "cell_type": "code",
      "metadata": {
        "id": "w0u6EQkgBMby",
        "colab_type": "code",
        "colab": {}
      },
      "source": [
        "sen = input()\n",
        "UpCase = 0\n",
        "LoCase = 0\n",
        "for i in sen :\n",
        "  if i.isupper() == True:\n",
        "    UpCase += 1\n",
        "  if i.islower() == True :\n",
        "    LoCase += 1\n",
        "\n",
        "\n",
        "print(\"Upper case is : {0} \\nLower case is : {1}\".format(UpCase, LoCase))"
      ],
      "execution_count": 0,
      "outputs": []
    },
    {
      "cell_type": "code",
      "metadata": {
        "id": "rHEat0M-Crup",
        "colab_type": "code",
        "colab": {}
      },
      "source": [
        ""
      ],
      "execution_count": 0,
      "outputs": []
    },
    {
      "cell_type": "code",
      "metadata": {
        "id": "YjwNW6xNCr8I",
        "colab_type": "code",
        "colab": {}
      },
      "source": [
        "### Write a program that computes the value of a+aa+aaa+aaaa with a given digit as the value of a."
      ],
      "execution_count": 0,
      "outputs": []
    },
    {
      "cell_type": "code",
      "metadata": {
        "id": "ZEWD5dWTCvX-",
        "colab_type": "code",
        "colab": {}
      },
      "source": [
        "# method 1\n",
        "a = input(\"Enter number : \")\n",
        "\n",
        "a = int(a)  +   int(str(a) * 2) +   int(str(a) * 3) + int(str(a) * 4) \n",
        "\n",
        "print(a)"
      ],
      "execution_count": 0,
      "outputs": []
    },
    {
      "cell_type": "code",
      "metadata": {
        "id": "PwlNEej7EGjs",
        "colab_type": "code",
        "colab": {}
      },
      "source": [
        "#Method 2 \n",
        "a = input(\"Enter number : \")\n",
        "\n",
        "total, tmp = 0, str()\n",
        "\n",
        "for i in range(4):\n",
        "  tmp += a\n",
        "  total += int(tmp)\n",
        "\n",
        "print(total)\n",
        "\n"
      ],
      "execution_count": 0,
      "outputs": []
    },
    {
      "cell_type": "code",
      "metadata": {
        "id": "eWRvp2gMEuoM",
        "colab_type": "code",
        "colab": {}
      },
      "source": [
        ""
      ],
      "execution_count": 0,
      "outputs": []
    },
    {
      "cell_type": "code",
      "metadata": {
        "id": "GrCpyrtKE9fQ",
        "colab_type": "code",
        "colab": {}
      },
      "source": [
        "### Write a program that accepts a sequence of whitespace separated words\n",
        "### as input and prints the words after removing \n",
        "###  all duplicate words and sorting them alphanumerically.\n",
        "\n",
        "### Suppose input is this \n",
        "\n",
        "### hello world and practice makes perfect and hello world again\n",
        "### o/p should be \n",
        "### again and hello makes perfect practice world\n",
        "\n",
        "\n",
        "\n"
      ],
      "execution_count": 0,
      "outputs": []
    },
    {
      "cell_type": "code",
      "metadata": {
        "id": "IW-vDsg6FRec",
        "colab_type": "code",
        "colab": {}
      },
      "source": [
        "#Method 1\n",
        "\n",
        "n = sorted(list(set(input().split())))\n",
        "\n",
        "print(\" \".join(n))"
      ],
      "execution_count": 0,
      "outputs": []
    },
    {
      "cell_type": "code",
      "metadata": {
        "id": "paZLiNmLGb_E",
        "colab_type": "code",
        "colab": {}
      },
      "source": [
        "# Method 2\n",
        "\n",
        "word = input().split()\n",
        "\n",
        "[word.remove(i)    for i in word if word.count(i) > 1 ]\n",
        "\n",
        "word.sort()\n",
        "\n",
        "print(\" \".join(word))\n",
        "\n",
        "\n"
      ],
      "execution_count": 0,
      "outputs": []
    },
    {
      "cell_type": "code",
      "metadata": {
        "id": "z_jEuOANHy0v",
        "colab_type": "code",
        "colab": {}
      },
      "source": [
        "# Write a program that accepts a sentence and calculate the number of letters and digits."
      ],
      "execution_count": 0,
      "outputs": []
    },
    {
      "cell_type": "code",
      "metadata": {
        "id": "uLChW1BGHy6e",
        "colab_type": "code",
        "colab": {}
      },
      "source": [
        "sentence = input()\n",
        "alpha, digit = 0,0\n",
        "for i in sentence :\n",
        "  if i.isalpha() == True :\n",
        "    alpha += 1\n",
        "  if i.isdigit() == True :\n",
        "    digit += 1\n",
        "\n",
        "print(\"Alpha letter is :  {0}\\nDigit is\\t:  {1}\".format(alpha, digit))"
      ],
      "execution_count": 0,
      "outputs": []
    },
    {
      "cell_type": "code",
      "metadata": {
        "id": "TE1bV1bDHy-o",
        "colab_type": "code",
        "colab": {}
      },
      "source": [
        "### Write a program which will find all such numbers which are divisible by 7\n",
        "### but are not a multiple of 5, between 2000 and 3200 (both included).\n",
        "### The numbers obtained should be printed in a \n",
        "### comma-separated sequence on a single line.\n",
        "\n"
      ],
      "execution_count": 0,
      "outputs": []
    },
    {
      "cell_type": "code",
      "metadata": {
        "id": "RISQC91UHy4r",
        "colab_type": "code",
        "colab": {}
      },
      "source": [
        "for i in range (2000,3001):\n",
        "  if i%7 == 0 and i % 5 != 0 :\n",
        "    print(i, end = \",\")"
      ],
      "execution_count": 0,
      "outputs": []
    },
    {
      "cell_type": "code",
      "metadata": {
        "id": "MX6hKBBzaobU",
        "colab_type": "code",
        "colab": {}
      },
      "source": [
        ""
      ],
      "execution_count": 0,
      "outputs": []
    },
    {
      "cell_type": "code",
      "metadata": {
        "id": "vFvJZJEVaotE",
        "colab_type": "code",
        "colab": {}
      },
      "source": [
        "### Write a program which can compute the factorial of a given numbers.\n",
        "### The results should be printed in a\n",
        "### comma-separated sequence on a single line.\n",
        "### Suppose the following input is supplied to the program: 8\n",
        "###  Then, the output should be:40320"
      ],
      "execution_count": 0,
      "outputs": []
    },
    {
      "cell_type": "code",
      "metadata": {
        "id": "KJF7X5eda2Uz",
        "colab_type": "code",
        "colab": {}
      },
      "source": [
        "def fact(n):\n",
        "  if n <=1 and n>=0:\n",
        "    return 1\n",
        "  return n * fact(n-1)\n",
        "print(fact(int(input(\"please enter integer value :  \"))))"
      ],
      "execution_count": 0,
      "outputs": []
    },
    {
      "cell_type": "code",
      "metadata": {
        "id": "bqI1uBGya2ZP",
        "colab_type": "code",
        "colab": {}
      },
      "source": [
        ""
      ],
      "execution_count": 0,
      "outputs": []
    },
    {
      "cell_type": "code",
      "metadata": {
        "id": "zxhESo1qa2dI",
        "colab_type": "code",
        "colab": {}
      },
      "source": [
        "###With a given integral number n, \n",
        "###write a program to generate a dictionary that contains (i, i x i)\n",
        "### such that is an integral number between 1 and n (both included).\n",
        "###  and then the program should print the dictionary.\n",
        "\n",
        "###  Suppose the following input is supplied to the program: 8\n",
        "\n",
        "### Then, the output should be:\n",
        "\n",
        "### {1: 1, 2: 4, 3: 9, 4: 16, 5: 25, 6: 36, 7: 49, 8: 64}"
      ],
      "execution_count": 0,
      "outputs": []
    },
    {
      "cell_type": "code",
      "metadata": {
        "id": "5Ny9WPZja2gt",
        "colab_type": "code",
        "colab": {}
      },
      "source": [
        "n = int(input(\"Please enter number : \"))\n",
        "result = {i : i*i for i in range (1,n+1)}\n",
        "print (result)"
      ],
      "execution_count": 0,
      "outputs": []
    },
    {
      "cell_type": "code",
      "metadata": {
        "id": "ujH0mAaja2kw",
        "colab_type": "code",
        "colab": {}
      },
      "source": [
        ""
      ],
      "execution_count": 0,
      "outputs": []
    },
    {
      "cell_type": "code",
      "metadata": {
        "id": "udtcvHYJa2nw",
        "colab_type": "code",
        "colab": {}
      },
      "source": [
        "### get input sep by \",\"  and make it list & then tuple and print it"
      ],
      "execution_count": 0,
      "outputs": []
    },
    {
      "cell_type": "code",
      "metadata": {
        "id": "m0Yp_40La2rK",
        "colab_type": "code",
        "colab": {}
      },
      "source": [
        "n = input(\"input please sep by ','   :   \").split(\",\")\n",
        "print(n)\n",
        "print(tuple(n))"
      ],
      "execution_count": 0,
      "outputs": []
    },
    {
      "cell_type": "code",
      "metadata": {
        "id": "LxC-sJaAdD0K",
        "colab_type": "code",
        "colab": {}
      },
      "source": [
        ""
      ],
      "execution_count": 0,
      "outputs": []
    },
    {
      "cell_type": "code",
      "metadata": {
        "id": "P-1SFzdXa2u5",
        "colab_type": "code",
        "colab": {}
      },
      "source": [
        "### Define a class which has at least two methods:\n",
        "\n",
        "### getString: to get a string from console input\n",
        "### printString: to print the string in upper case.\n",
        "### Also please include simple test function to test the class methods."
      ],
      "execution_count": 0,
      "outputs": []
    },
    {
      "cell_type": "code",
      "metadata": {
        "id": "tAAlJqdXdKke",
        "colab_type": "code",
        "colab": {}
      },
      "source": [
        "class IOString:\n",
        "  def __init__(self):\n",
        "    pass\n",
        "  def getString(self) :\n",
        "    self.s = input(\"input as string please : \")\n",
        "  def printString(self):\n",
        "    print(self.s)\n",
        "  \n",
        "\n",
        "\n",
        "a = IOString()\n",
        "a.getString()\n",
        "a.printString()  "
      ],
      "execution_count": 0,
      "outputs": []
    },
    {
      "cell_type": "code",
      "metadata": {
        "id": "5nWu0ik5d7z3",
        "colab_type": "code",
        "colab": {}
      },
      "source": [
        ""
      ],
      "execution_count": 0,
      "outputs": []
    },
    {
      "cell_type": "code",
      "metadata": {
        "id": "W7YuMB7zd73B",
        "colab_type": "code",
        "colab": {}
      },
      "source": [
        ""
      ],
      "execution_count": 0,
      "outputs": []
    },
    {
      "cell_type": "code",
      "metadata": {
        "id": "E8yN0NkTd76c",
        "colab_type": "code",
        "colab": {}
      },
      "source": [
        "### Write a program that accepts sequence of lines as input \n",
        "### and prints the lines after making all characters in the sentence capitalized."
      ],
      "execution_count": 0,
      "outputs": []
    },
    {
      "cell_type": "code",
      "metadata": {
        "id": "z-MeDkaBeFyt",
        "colab_type": "code",
        "colab": {}
      },
      "source": [
        "lst = []\n",
        "while True :\n",
        "  n = input()\n",
        "  if not n :\n",
        "    break\n",
        "  lst.append(n.upper())\n",
        "\n",
        "for sentence in lst :\n",
        "  print(sentence)"
      ],
      "execution_count": 0,
      "outputs": []
    },
    {
      "cell_type": "code",
      "metadata": {
        "id": "4AwE45xwes2G",
        "colab_type": "code",
        "colab": {}
      },
      "source": [
        ""
      ],
      "execution_count": 0,
      "outputs": []
    },
    {
      "cell_type": "code",
      "metadata": {
        "id": "gYbXNsDaes5H",
        "colab_type": "code",
        "colab": {}
      },
      "source": [
        ""
      ],
      "execution_count": 0,
      "outputs": []
    },
    {
      "cell_type": "code",
      "metadata": {
        "id": "XAKtLK1xes9J",
        "colab_type": "code",
        "colab": {}
      },
      "source": [
        "### Write a program that accepts a comma separated sequence of words \n",
        "### as input and prints the words in a comma-separated sequence \n",
        "### after sorting them alphabetically."
      ],
      "execution_count": 0,
      "outputs": []
    },
    {
      "cell_type": "code",
      "metadata": {
        "id": "d7leeveLe1U2",
        "colab_type": "code",
        "colab": {}
      },
      "source": [
        "n = input(\"enter words sep by ',' : \").split(\",\")\n",
        "# print(n.sort()) will sort n but return None\n",
        "#n.sort()  \n",
        "#print(n)   # This will work\n",
        "print(sorted(n))"
      ],
      "execution_count": 0,
      "outputs": []
    },
    {
      "cell_type": "code",
      "metadata": {
        "id": "lddfVRSEf7qd",
        "colab_type": "code",
        "colab": {}
      },
      "source": [
        ""
      ],
      "execution_count": 0,
      "outputs": []
    },
    {
      "cell_type": "code",
      "metadata": {
        "id": "biANZLOnf7uI",
        "colab_type": "code",
        "colab": {}
      },
      "source": [
        ""
      ],
      "execution_count": 0,
      "outputs": []
    },
    {
      "cell_type": "code",
      "metadata": {
        "id": "GQnWKCRyf70F",
        "colab_type": "code",
        "colab": {}
      },
      "source": [
        "###Write a program which takes 2 digits, X,Y as input \n",
        "###and generates a 2-dimensional array. The element value in\n",
        "### the i-th row and j-th column of the array should be i * j.\n",
        "\n",
        "### Note: i=0,1.., X-1; j=0,1,¡­Y-1. Suppose the following inputs \n",
        "###are given to the program: 3,5\n",
        "\n",
        "###Then, the output of the program should be:\n",
        "\n",
        "### [[0, 0, 0, 0, 0], [0, 1, 2, 3, 4], [0, 2, 4, 6, 8]]"
      ],
      "execution_count": 0,
      "outputs": []
    },
    {
      "cell_type": "code",
      "metadata": {
        "id": "NWVNF8A3f73P",
        "colab_type": "code",
        "colab": {}
      },
      "source": [
        "X,Y = map(int, input(\"Please enter 2 digit for X & Y sep by comma : \").split(\",\"))\n",
        "\n",
        "result = [[i*j  for j in range (Y)]     for i in range(X)]\n",
        "print(result)"
      ],
      "execution_count": 0,
      "outputs": []
    },
    {
      "cell_type": "code",
      "metadata": {
        "id": "GdvVonFqf77V",
        "colab_type": "code",
        "colab": {}
      },
      "source": [
        ""
      ],
      "execution_count": 0,
      "outputs": []
    },
    {
      "cell_type": "code",
      "metadata": {
        "id": "Z5QHhh3qf7-L",
        "colab_type": "code",
        "colab": {}
      },
      "source": [
        ""
      ],
      "execution_count": 0,
      "outputs": []
    },
    {
      "cell_type": "code",
      "metadata": {
        "id": "LB-sz0VZf8BP",
        "colab_type": "code",
        "colab": {}
      },
      "source": [
        "###Write a program that calculates and prints \n",
        "### the value according to the given formula:\n",
        "\n",
        "### Q = Square root of [(2 * C * D)/H]\n",
        "\n",
        "### Following are the fixed values of C and H:\n",
        "\n",
        "### C is 50. H is 30.\n",
        "\n",
        "### D is the variable whose values should be input to your program\n",
        "### in a comma-separated sequence.For example Let us assume the following\n",
        "###  comma separated input sequence is given to the program:\n",
        "\n",
        "### 100,150,180\n",
        "### The output of the program should be:\n",
        "\n",
        "### 18,22,24"
      ],
      "execution_count": 0,
      "outputs": []
    },
    {
      "cell_type": "code",
      "metadata": {
        "id": "uawA43v1f8EN",
        "colab_type": "code",
        "colab": {}
      },
      "source": [
        "from math import *\n",
        "C, H = 50, 30\n",
        "\n",
        "def calc (D) :\n",
        "    return round (sqrt (  (2 * C * D )/H  ))\n",
        "\n",
        "D = list(map (int, input().split(',') ))\n",
        "lst = []\n",
        "for i in D :\n",
        "  lst.append(calc(i))\n",
        "print(lst)\n",
        "\n",
        "# If you understood above line then merge them in one line like below \n",
        "\n",
        "#  print(\",\".join([str(int(calc(int(i)))) for i in input().split(',')]))"
      ],
      "execution_count": 0,
      "outputs": []
    }
  ]
}