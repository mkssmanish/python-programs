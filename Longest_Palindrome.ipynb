{
  "nbformat": 4,
  "nbformat_minor": 0,
  "metadata": {
    "colab": {
      "provenance": [],
      "include_colab_link": true
    },
    "kernelspec": {
      "name": "python3",
      "display_name": "Python 3"
    },
    "language_info": {
      "name": "python"
    }
  },
  "cells": [
    {
      "cell_type": "markdown",
      "metadata": {
        "id": "view-in-github",
        "colab_type": "text"
      },
      "source": [
        "<a href=\"https://colab.research.google.com/github/mkssmanish/python-programs/blob/master/Longest_Palindrome.ipynb\" target=\"_parent\"><img src=\"https://colab.research.google.com/assets/colab-badge.svg\" alt=\"Open In Colab\"/></a>"
      ]
    },
    {
      "cell_type": "code",
      "source": [
        "#####################  Longest Palindrom in a String when --> can construct a palindrome from given STRING/SubString   #################"
      ],
      "metadata": {
        "id": "vQ-OnbHKDSjw"
      },
      "execution_count": null,
      "outputs": []
    },
    {
      "cell_type": "code",
      "source": [
        "def canBeApalindrome(mystring:str = None)-> bool:    ####  can construct a palindrome from given STRING\n",
        "\n",
        "  \"\"\"   Simple method to check if can Be A palindrome  with some arrangement \"\"\"\n",
        "\n",
        "  ######### Base condition   ##########\n",
        "\n",
        "  n = len(mystring)   ### Size of string\n",
        "  mydict = {}\n",
        "  ######  count occurance of charecter of string\n",
        "  #####  Divide by 2 ==> shd be zero  --> maximum one odd is allowed\n",
        "\n",
        "  for i in range(n):\n",
        "    if mystring[i] in mydict:\n",
        "      mydict[mystring[i]]  += 1\n",
        "      continue\n",
        "    mydict[mystring[i]] = 1\n",
        "  #####  Dic  -> count   Done\n",
        "\n",
        "\n",
        "\n",
        "  ##### iterate My Dictionary  and check each key with condition  (dic[key] %2 == 1)\n",
        "  count = 0\n",
        "  for key in mydict:\n",
        "    if mydict[key] % 2 == 1:\n",
        "      count += 1\n",
        "    if count > 1 :\n",
        "      return False\n",
        "\n",
        "  ##### what if count remains 0 --> return Yes, it can be Palindrome\n",
        "  return True\n",
        "\n",
        "\n",
        "###isPalindrome(\"klmnonmlk\")"
      ],
      "metadata": {
        "id": "1M3SskKhDSmm"
      },
      "execution_count": 55,
      "outputs": []
    },
    {
      "cell_type": "code",
      "source": [
        "def longestPalindrome(mystring:str = None) -> str:\n",
        "\n",
        "  \"\"\" itetare from index START to END & check if isPalindrom()  \"\"\"\n",
        "\n",
        "\n",
        "  n = len(mystring)\n",
        "  passingString = \"\"\n",
        "  max = 0\n",
        "  max_palindrome = \"\"\n",
        "\n",
        "  for i in range(n):\n",
        "\n",
        "    start = i\n",
        "    temp_end = i+1\n",
        "    count  = 0\n",
        "\n",
        "    while (temp_end <= n):\n",
        "\n",
        "      #### All combination of STRING  Start TO start + 1 ---> start TO end --> start itself incrementing to end after each iteration\n",
        "      passingString = mystring[i:temp_end]\n",
        "\n",
        "      temp_end = temp_end+1\n",
        "\n",
        "\n",
        "      ### call fun() --> isPalindrome()\n",
        "      if canBeApalindrome(passingString) :\n",
        "        if max < len(passingString):\n",
        "          max = len(passingString)\n",
        "          max_palindrome = passingString\n",
        "\n",
        "  return max_palindrome\n",
        "\n",
        "#### Driver Code #################"
      ],
      "metadata": {
        "id": "b4Nt9NKnFhrN"
      },
      "execution_count": 56,
      "outputs": []
    },
    {
      "cell_type": "code",
      "source": [
        "#### Driver Code to get Longest PALINDROME #################\n",
        "#######################################\n",
        "import time\n",
        "start = time.time()\n",
        "S1 = \"aaabaa\"\n",
        "S2 = \"manishkumar\"\n",
        "S3 = \"aba\"\n",
        "S4 = \"aaabcdefggghgggh\"\n",
        "S5 = \"1234567890987654321\"\n",
        "S6 = \"aba\"\n",
        "S7 = \"ab\"\n",
        "S8 = \"a\"\n",
        "S = \"abbccd\"\n",
        "end = time.time()\n",
        "\n",
        "\n",
        "result = longestPalindrome(S)\n",
        "\n",
        "print(f\" for given string {S} with Some arrangement - - > longest palindrome is   -->  {result}   in {(end-start) * 1000}     milliseconds\")"
      ],
      "metadata": {
        "colab": {
          "base_uri": "https://localhost:8080/"
        },
        "id": "HmfGQ2lOFht_",
        "outputId": "fcb47c10-208b-46dd-929d-85485831a7c3"
      },
      "execution_count": 57,
      "outputs": [
        {
          "output_type": "stream",
          "name": "stdout",
          "text": [
            " for given string abbccd with Some arrangement - - > longest palindrome is   -->  abbcc   in 0.36597251892089844     milliseconds\n"
          ]
        }
      ]
    },
    {
      "cell_type": "code",
      "source": [
        "###  To Understand  print all comination of String   #################################################\n",
        "######################################################################################################\n",
        "S =  \"abcdefghijklmnonmlkjhigfdabc\"   ###############################################################\n",
        "\n",
        "n = len(S)\n",
        "\n",
        "for i in range(n):\n",
        "\n",
        "  start = i\n",
        "  temp_end = i+1\n",
        "  count  = 0\n",
        "\n",
        "  while (temp_end <= n):\n",
        "    S[i:temp_end]\n",
        "    print(S[i:temp_end])\n",
        "    temp_end = temp_end  +  1   #### incrementing by 1\n",
        "\n",
        "####################################################################################################\n",
        "#####################################################################################################"
      ],
      "metadata": {
        "id": "yGyKFnxRPVQp"
      },
      "execution_count": null,
      "outputs": []
    }
  ]
}