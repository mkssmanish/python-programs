{
  "nbformat": 4,
  "nbformat_minor": 0,
  "metadata": {
    "colab": {
      "name": "Numpy_indexing.ipynb",
      "provenance": [],
      "authorship_tag": "ABX9TyMWLy0HWmfGoKVbINJmYzr+",
      "include_colab_link": true
    },
    "kernelspec": {
      "name": "python3",
      "display_name": "Python 3"
    }
  },
  "cells": [
    {
      "cell_type": "markdown",
      "metadata": {
        "id": "view-in-github",
        "colab_type": "text"
      },
      "source": [
        "<a href=\"https://colab.research.google.com/github/mkssmanish/python-programs/blob/master/Numpy_indexing.ipynb\" target=\"_parent\"><img src=\"https://colab.research.google.com/assets/colab-badge.svg\" alt=\"Open In Colab\"/></a>"
      ]
    },
    {
      "cell_type": "code",
      "metadata": {
        "id": "d-uQTnqMo3xf",
        "colab_type": "code",
        "colab": {}
      },
      "source": [
        "### when python lists are already there ###\n",
        "### Why do we need NumPy ? ###\n",
        "\n",
        "\n",
        "# The answer to it is we cannot perform operations \n",
        "#... on all the elements of two list directly. For example, \n",
        "#... we cannot multiply two lists directly we will have to do it element-wise. \n",
        "#... This is where the role of NumPy comes into play."
      ],
      "execution_count": 0,
      "outputs": []
    },
    {
      "cell_type": "code",
      "metadata": {
        "id": "VJVAaFgsy9qu",
        "colab_type": "code",
        "colab": {}
      },
      "source": [
        ""
      ],
      "execution_count": 0,
      "outputs": []
    },
    {
      "cell_type": "code",
      "metadata": {
        "id": "P9pNNv_5y9t6",
        "colab_type": "code",
        "colab": {
          "base_uri": "https://localhost:8080/",
          "height": 197
        },
        "outputId": "12f91336-9460-4bf5-f039-bca168820396"
      },
      "source": [
        "# Python program to demonstrate a need of NumPy\n",
        " \n",
        "list1 = [1, 2, 3, 4 ,5, 6]\n",
        "list2 = [10, 9, 8, 7, 6, 5]\n",
        " \n",
        "# Multiplying both lists directly would give an error.\n",
        "print(list1*list2)"
      ],
      "execution_count": 1,
      "outputs": [
        {
          "output_type": "error",
          "ename": "TypeError",
          "evalue": "ignored",
          "traceback": [
            "\u001b[0;31m---------------------------------------------------------------------------\u001b[0m",
            "\u001b[0;31mTypeError\u001b[0m                                 Traceback (most recent call last)",
            "\u001b[0;32m<ipython-input-1-81ae97c26a7a>\u001b[0m in \u001b[0;36m<module>\u001b[0;34m()\u001b[0m\n\u001b[1;32m      5\u001b[0m \u001b[0;34m\u001b[0m\u001b[0m\n\u001b[1;32m      6\u001b[0m \u001b[0;31m# Multiplying both lists directly would give an error.\u001b[0m\u001b[0;34m\u001b[0m\u001b[0;34m\u001b[0m\u001b[0;34m\u001b[0m\u001b[0m\n\u001b[0;32m----> 7\u001b[0;31m \u001b[0mprint\u001b[0m\u001b[0;34m(\u001b[0m\u001b[0mlist1\u001b[0m\u001b[0;34m*\u001b[0m\u001b[0mlist2\u001b[0m\u001b[0;34m)\u001b[0m\u001b[0;34m\u001b[0m\u001b[0;34m\u001b[0m\u001b[0m\n\u001b[0m",
            "\u001b[0;31mTypeError\u001b[0m: can't multiply sequence by non-int of type 'list'"
          ]
        }
      ]
    },
    {
      "cell_type": "code",
      "metadata": {
        "id": "XsCiVpRczIIi",
        "colab_type": "code",
        "colab": {
          "base_uri": "https://localhost:8080/",
          "height": 34
        },
        "outputId": "6c702a34-2293-4015-cf1e-2e8256bda42f"
      },
      "source": [
        "import numpy as np\n",
        "list1 = np.array(list1)\n",
        "list2 = np.array(list2)\n",
        "\n",
        "print(list1 * list2 )"
      ],
      "execution_count": 3,
      "outputs": [
        {
          "output_type": "stream",
          "text": [
            "[10 18 24 28 30 30]\n"
          ],
          "name": "stdout"
        }
      ]
    },
    {
      "cell_type": "code",
      "metadata": {
        "id": "PA2YH5bLzIb3",
        "colab_type": "code",
        "colab": {}
      },
      "source": [
        ""
      ],
      "execution_count": 0,
      "outputs": []
    },
    {
      "cell_type": "code",
      "metadata": {
        "id": "J7kegHgyzfg-",
        "colab_type": "code",
        "colab": {}
      },
      "source": [
        ""
      ],
      "execution_count": 0,
      "outputs": []
    },
    {
      "cell_type": "code",
      "metadata": {
        "id": "_5306wDVzfjk",
        "colab_type": "code",
        "colab": {}
      },
      "source": [
        "# Create a sequence of integers from\n",
        "# 10 to 0  with a step of -3\n",
        "a = np.arange(10,0 , -3)\n",
        "print(a)"
      ],
      "execution_count": 0,
      "outputs": []
    },
    {
      "cell_type": "code",
      "metadata": {
        "id": "1Y7HFha4zfmn",
        "colab_type": "code",
        "colab": {}
      },
      "source": [
        "print(\"a = \", a)\n",
        "new_arr = a[np.array([2,0,1 ])]\n",
        "new_arr"
      ],
      "execution_count": 0,
      "outputs": []
    },
    {
      "cell_type": "code",
      "metadata": {
        "id": "PUP-odfWzfpg",
        "colab_type": "code",
        "colab": {}
      },
      "source": [
        "x = np.array([1, 2, 3, 4, 5, 6, 7, 8, 9])\n",
        "\n",
        "# Index values can be negative.\n",
        "arr = x[np.array([0,3,-3])]\n",
        "print(\"\\n Elements are : \\n\",arr)"
      ],
      "execution_count": 0,
      "outputs": []
    },
    {
      "cell_type": "code",
      "metadata": {
        "id": "9bx_GP4z4jnV",
        "colab_type": "code",
        "colab": {}
      },
      "source": [
        ""
      ],
      "execution_count": 0,
      "outputs": []
    },
    {
      "cell_type": "code",
      "metadata": {
        "id": "HC3O98ujzfs3",
        "colab_type": "code",
        "colab": {}
      },
      "source": [
        "#########  Types of Indexing ###########"
      ],
      "execution_count": 0,
      "outputs": []
    },
    {
      "cell_type": "code",
      "metadata": {
        "id": "ZqgUzgKu4lYJ",
        "colab_type": "code",
        "colab": {
          "base_uri": "https://localhost:8080/",
          "height": 442
        },
        "outputId": "7c9608b5-7c7d-4a37-961c-af94e9b6489c"
      },
      "source": [
        "# Python program for basic slicing.\n",
        "import numpy as np\n",
        " \n",
        "# Arrange elements from 0 to 19\n",
        "a = np.arange(20)\n",
        "print(\"\\n Array is:\\n \",a)\n",
        "\n",
        "negative_index = np.arange(-20,0,1)\n",
        "print(\"\\n negative index  is:\\n \",negative_index)\n",
        " \n",
        "# a[start:stop:step]\n",
        "\n",
        "print(\"\\n -8 = 12th index --> a[-8:17:1]  = \",a[-8:17:1]) \n",
        "\n",
        "\n",
        "\n",
        "print(\"\\n\\n\\n  a[8:-17:-1] will give index 8,7,6,5,4  bcz -17 mean 3rd index --> 8  loop(-1) till 3rd index   \",a[8:-17:-1]) \n",
        "\n",
        "\n",
        "\n",
        "print(\"\\n\\n\\n a[8:12:-1] will give empty array bcz 8th index increment with (-1) cant lead u to 12th index  = \",a[8:12:-1]) \n",
        "\n",
        "\n",
        "print(\"\\n\\n\\n -8 mean 12th index , -12 mean +8th index  a[-8:-12:-1] will give array with index -8 -9 -10 -11   = \",a[-8:-12:-1]) \n",
        "\n",
        " \n",
        "# The : operator means all elements till the end.\n",
        "print(\"\\n\\n\\n a[10:]  = \",a[10:])"
      ],
      "execution_count": 36,
      "outputs": [
        {
          "output_type": "stream",
          "text": [
            "\n",
            " Array is:\n",
            "  [ 0  1  2  3  4  5  6  7  8  9 10 11 12 13 14 15 16 17 18 19]\n",
            "\n",
            " negative index  is:\n",
            "  [-20 -19 -18 -17 -16 -15 -14 -13 -12 -11 -10  -9  -8  -7  -6  -5  -4  -3\n",
            "  -2  -1]\n",
            "\n",
            " -8 = 12th index --> a[-8:17:1]  =  [12 13 14 15 16]\n",
            "\n",
            "\n",
            "\n",
            "  a[8:-17:-1] will give index 8,7,6,5,4  bcz -17 mean 3rd index --> 8  loop(-1) till 3rd index    [8 7 6 5 4]\n",
            "\n",
            "\n",
            "\n",
            " a[8:12:-1] will give empty array bcz 8th index increment with (-1) cant lead u to 12th index  =  []\n",
            "\n",
            "\n",
            "\n",
            " -8 mean 12th index , -12 mean +8th index  a[-8:-12:-1] will give array with index -8 -9 -10 -11   =  [12 11 10  9]\n",
            "\n",
            "\n",
            "\n",
            " a[10:]  =  [10 11 12 13 14 15 16 17 18 19]\n"
          ],
          "name": "stdout"
        }
      ]
    },
    {
      "cell_type": "code",
      "metadata": {
        "id": "rH5Zi4_M4lac",
        "colab_type": "code",
        "colab": {}
      },
      "source": [
        ""
      ],
      "execution_count": 0,
      "outputs": []
    },
    {
      "cell_type": "code",
      "metadata": {
        "id": "0a6KtYVu4le-",
        "colab_type": "code",
        "colab": {
          "base_uri": "https://localhost:8080/",
          "height": 459
        },
        "outputId": "c409faf3-1d25-45e0-f4bf-e610adb9b8e8"
      },
      "source": [
        "# Python program for basic slicing \n",
        "# and indexing\n",
        "import numpy as np\n",
        " \n",
        "# A 3-Dimensional array\n",
        "a = np.array([[0, 1, 2, 3, 4, 5],\n",
        "              [6, 7, 8, 9, 10, 11],\n",
        "              [12, 13, 14, 15, 16, 17],\n",
        "              [18, 19, 20, 21, 22, 23],\n",
        "              [24, 25, 26, 27, 28, 29],\n",
        "              [30, 31, 32, 33, 34, 35]])\n",
        "print(\"\\n Array is:\\n \",a)\n",
        " \n",
        "# slicing and indexing\n",
        "print(\"\\n a[0, 3:5]  = \",a[0, 3:5]) \n",
        " \n",
        "print(\"\\n a[4:, 4:]  = \",a[4:, 4:]) \n",
        " \n",
        "print(\"\\n a[:, 2]  = \",a[:, 2]) \n",
        " \n",
        "print(\"\\n a[2::2, ::2]  = \",a[2::2, ::2]) \n",
        "print(\" a[...,1]) #Equivalent to a[: ,: ,1 ]  \")\n",
        "print(a[...,5]) #Equivalent to a[: ,: ,1 ]\n",
        "print(a[:,::5])\n"
      ],
      "execution_count": 55,
      "outputs": [
        {
          "output_type": "stream",
          "text": [
            "\n",
            " Array is:\n",
            "  [[ 0  1  2  3  4  5]\n",
            " [ 6  7  8  9 10 11]\n",
            " [12 13 14 15 16 17]\n",
            " [18 19 20 21 22 23]\n",
            " [24 25 26 27 28 29]\n",
            " [30 31 32 33 34 35]]\n",
            "\n",
            " a[0, 3:5]  =  [3 4]\n",
            "\n",
            " a[4:, 4:]  =  [[28 29]\n",
            " [34 35]]\n",
            "\n",
            " a[:, 2]  =  [ 2  8 14 20 26 32]\n",
            "\n",
            " a[2::2, ::2]  =  [[12 14 16]\n",
            " [24 26 28]]\n",
            " a[...,1]) #Equivalent to a[: ,: ,1 ]  \n",
            "[ 5 11 17 23 29 35]\n",
            "[[ 0  5]\n",
            " [ 6 11]\n",
            " [12 17]\n",
            " [18 23]\n",
            " [24 29]\n",
            " [30 35]]\n"
          ],
          "name": "stdout"
        }
      ]
    }
  ]
}